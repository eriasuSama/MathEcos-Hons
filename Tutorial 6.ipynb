{
 "cells": [
  {
   "cell_type": "markdown",
   "id": "5960685d",
   "metadata": {},
   "source": [
    "# Portfolio Optimization"
   ]
  },
  {
   "cell_type": "markdown",
   "id": "8becc534",
   "metadata": {},
   "source": [
    "Download the JSE Top 40 Closing Prices excel file from RUconnected and paste in the same directory as this notebook.  Import that excel file and store it as a DataFrame called `df`.\n",
    "\n",
    "Using the list below, select the stocks that have been chosen for you and store it as a DataFrame called `prices`:\n",
    "\n",
    "- 18S0848:[JSE:SLM,JSE:INL,JSE:MTN,JSE:NPH,JSE:GRT,JSE:SAP,JSE:RES,JSE:REM,JSE:IMP,JSE:AMS]\n",
    "- 18K5600:[JSE:TCP,JSE:MRP,JSE:SBK,JSE:EXX,JSE:CLS,JSE:GRT,JSE:AMS,JSE:TBS,JSE:MTN,JSE:DSY]\n",
    "- 19M8491:[JSE:GFI,JSE:APN,JSE:GRT,JSE:CPI,JSE:BVT,JSE:WHL,JSE:RES,JSE:TCP,JSE:NED,JSE:DSY]\n",
    "- 23M8732:[JSE:FSR,JSE:REM,JSE:APN,JSE:NED,JSE:TCP,JSE:GRT,JSE:GFI,JSE:SHP,JSE:MTN,JSE:DSY]\n",
    "- 23M4785:[JSE:GFI,JSE:TRU,JSE:CLS,JSE:MRP,JSE:TCP,JSE:MTN,JSE:BTI,JSE:SOL,JSE:NPN,JSE:DSY]\n",
    "- 17B5426:[JSE:ANG,JSE:AMS,JSE:SBK,JSE:SHP,JSE:INL,JSE:KIO,JSE:BTI,JSE:RDF,JSE:RES,JSE:EXX]\n",
    "- 23R7256:[JSE:IMP,JSE:LHC,JSE:SHP,JSE:BVT,JSE:GLN,JSE:BTI,JSE:EXX,JSE:NPN,JSE:CLS,JSE:AMS]\n",
    "\n",
    "Ensure that the `prices` DataFrame only contains records from 2022."
   ]
  },
  {
   "cell_type": "code",
   "execution_count": null,
   "id": "1bf9fe6a",
   "metadata": {},
   "outputs": [],
   "source": []
  },
  {
   "cell_type": "markdown",
   "id": "293a92da",
   "metadata": {},
   "source": [
    "Calculate the variance covariance matrix and call it `vcm`.  Plot `vcm` as a `heatmap` using the `Seaborn` library.  Use as many cells as needed."
   ]
  },
  {
   "cell_type": "code",
   "execution_count": null,
   "id": "bbb31bd6",
   "metadata": {},
   "outputs": [],
   "source": []
  },
  {
   "cell_type": "markdown",
   "id": "ce055e3b",
   "metadata": {},
   "source": [
    "Calculate the optimal weights, portfolio return, portfolio standard deviation and portfolio Sharpe ratio of the Maximum Sharpe Ratio portfolio.  Store the variables as `msr_weights`, `msr_return`, `msr_std` and `msr_sr` respectively. Use as many cells as needed."
   ]
  },
  {
   "cell_type": "code",
   "execution_count": null,
   "id": "c0cd0fef",
   "metadata": {},
   "outputs": [],
   "source": []
  },
  {
   "cell_type": "markdown",
   "id": "705c12d0",
   "metadata": {},
   "source": [
    "Calculate the optimal weights, portfolio return, portfolio standard deviation and portfolio Sharpe ratio of the Minimum Variance portfolio.  Store the variables as `mv_weights`, `mv_return`, `mv_std` and `mv_sr` respectively. Use as many cells as needed."
   ]
  },
  {
   "cell_type": "code",
   "execution_count": null,
   "id": "e169f5e4",
   "metadata": {},
   "outputs": [],
   "source": []
  },
  {
   "cell_type": "markdown",
   "id": "40bf0e31",
   "metadata": {},
   "source": [
    "Calculate the optimal weights, portfolio return, portfolio standard deviation and portfolio Sharpe ratio of the Risk portfolio.  Store the variables as `rp_weights`, `rp_return`, `rp_std` and `rp_sr` respectively. Use as many cells as needed."
   ]
  },
  {
   "cell_type": "code",
   "execution_count": null,
   "id": "f2988730",
   "metadata": {},
   "outputs": [],
   "source": []
  },
  {
   "cell_type": "markdown",
   "id": "7a60d612",
   "metadata": {},
   "source": [
    "Determine if the Risk Parity portfolio is infact optimized by estimating the Mean Variance Optimisation portfolio where the portfolio variance needs to equal that of the Risk Parity portfolio.  "
   ]
  }
 ],
 "metadata": {
  "kernelspec": {
   "display_name": "Python 3",
   "language": "python",
   "name": "python3"
  },
  "language_info": {
   "codemirror_mode": {
    "name": "ipython",
    "version": 3
   },
   "file_extension": ".py",
   "mimetype": "text/x-python",
   "name": "python",
   "nbconvert_exporter": "python",
   "pygments_lexer": "ipython3",
   "version": "3.8.8"
  }
 },
 "nbformat": 4,
 "nbformat_minor": 5
}
