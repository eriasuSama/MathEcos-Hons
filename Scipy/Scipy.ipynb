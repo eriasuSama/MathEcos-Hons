{
 "cells": [
  {
   "cell_type": "markdown",
   "id": "b7f9b397",
   "metadata": {},
   "source": [
    "# Optimization\n",
    "\n",
    "Optimization is the process of finding the values of variables that minimize or maximize a given function. The SciPy library in Python provides a wide range of optimization algorithms that can be used to find the optimal values of variables for a given function.\n",
    "\n",
    "Before we dive into the specifics of using SciPy for optimization, let's first define some important terms related to optimization:\n",
    "\n",
    "- Objective Function: A mathematical function that we want to minimize or maximize.\n",
    "- Constraints: Conditions that restrict the possible values of the variables in the objective function.\n",
    "- Global Minimum/Maximum: The lowest/highest value of the objective function over its entire domain.\n",
    "- Local Minimum/Maximum: The lowest/highest value of the objective function in a particular region of its domain.\n",
    "Now, let's move on to how to use SciPy for optimization.\n",
    "\n",
    "First, we need to import the necessary libraries. We will use the following libraries:"
   ]
  },
  {
   "cell_type": "code",
   "execution_count": 8,
   "id": "4922131a",
   "metadata": {},
   "outputs": [],
   "source": [
    "import numpy as np\n",
    "import scipy.optimize as sco"
   ]
  },
  {
   "cell_type": "markdown",
   "id": "741e1545",
   "metadata": {},
   "source": [
    "Next, we need to define our objective function. In optimization, our objective is to minimize or maximize the function. Let's consider the following example objective function:\n",
    "\n",
    "$f(x) = x_0^2+x_1^2$"
   ]
  },
  {
   "cell_type": "code",
   "execution_count": 9,
   "id": "9a2c5f94",
   "metadata": {},
   "outputs": [],
   "source": [
    "def objective(x):\n",
    "    return x[0]**2 + x[1]**2\n"
   ]
  },
  {
   "cell_type": "markdown",
   "id": "86c57a87",
   "metadata": {},
   "source": [
    "## Unconstrained Optimization\n",
    "\n",
    "In this case, we want to find the values of `x` that minimize the sum of the squares of its two components.\n",
    "\n",
    "We can use the `minimize` function from the `scipy.optimize` library to find the minimum of our objective function. The `minimize` function requires us to provide the objective function and an initial guess for the values of `x`."
   ]
  },
  {
   "cell_type": "code",
   "execution_count": 10,
   "id": "ac2ce16f",
   "metadata": {},
   "outputs": [
    {
     "name": "stdout",
     "output_type": "stream",
     "text": [
      "  message: Optimization terminated successfully.\n",
      "  success: True\n",
      "   status: 0\n",
      "      fun: 2.311471135620994e-16\n",
      "        x: [-1.075e-08 -1.075e-08]\n",
      "      nit: 2\n",
      "      jac: [-6.600e-09 -6.600e-09]\n",
      " hess_inv: [[ 7.500e-01 -2.500e-01]\n",
      "            [-2.500e-01  7.500e-01]]\n",
      "     nfev: 9\n",
      "     njev: 3\n"
     ]
    }
   ],
   "source": [
    "x0 = np.array([1.0, 1.0])\n",
    "result = sco.minimize(objective, x0)\n",
    "print(result)"
   ]
  },
  {
   "cell_type": "markdown",
   "id": "f27b63d9",
   "metadata": {},
   "source": [
    "In the above code, we are using an initial guess of `[1.0, 1.0]` for the values of `x`. The `minimize` function returns the optimal values of `x` that minimize the objective function.\n",
    "\n",
    "- `fun`: output of the objective function\n",
    "- `nfev`: number of function evaluations\n",
    "- `nit`: number of iterations\n",
    "- `njev`: number of evaluations of the objective function's gradient\n",
    "- `x`: the values of the choice variables at the optimum"
   ]
  },
  {
   "cell_type": "markdown",
   "id": "c402b07a",
   "metadata": {},
   "source": [
    "## Constrained Optimization\n",
    "\n",
    "Now, let's consider an example where we have constraints in our optimization problem. Let's say we want to minimize the same objective function as before subject to the following constraints:\n",
    "\n",
    "- `x[0] + x[1] = 1`\n",
    "- `x[0] >= 0`\n",
    "- `x[1] >= 0`\n",
    "\n",
    "We can define our constraints as follows:"
   ]
  },
  {
   "cell_type": "code",
   "execution_count": 11,
   "id": "9b06df64",
   "metadata": {},
   "outputs": [],
   "source": [
    "def constraint1(x):\n",
    "    return x[0] + x[1] - 1.0\n",
    "\n",
    "def constraint2(x):\n",
    "    return x[0]\n",
    "\n",
    "def constraint3(x):\n",
    "    return x[1]\n"
   ]
  },
  {
   "cell_type": "markdown",
   "id": "3997c19d",
   "metadata": {},
   "source": [
    "We can then use the `minimize` function with the constraints argument to find the optimal values of `x` that minimize the objective function subject to the given constraints."
   ]
  },
  {
   "cell_type": "code",
   "execution_count": 12,
   "id": "fd3cdaf6",
   "metadata": {},
   "outputs": [
    {
     "name": "stdout",
     "output_type": "stream",
     "text": [
      " message: Optimization terminated successfully\n",
      " success: True\n",
      "  status: 0\n",
      "     fun: 0.5000000000000002\n",
      "       x: [ 5.000e-01  5.000e-01]\n",
      "     nit: 2\n",
      "     jac: [ 1.000e+00  1.000e+00]\n",
      "    nfev: 6\n",
      "    njev: 2\n"
     ]
    }
   ],
   "source": [
    "constraints = ({'type': 'eq', 'fun': constraint1},\n",
    "               {'type': 'ineq', 'fun': constraint2},\n",
    "               {'type': 'ineq', 'fun': constraint3})\n",
    "\n",
    "result = sco.minimize(objective, x0, constraints=constraints)\n",
    "print(result)"
   ]
  },
  {
   "cell_type": "markdown",
   "id": "876b0248",
   "metadata": {},
   "source": [
    "In the above code, we are using the `{'type': 'eq'}` constraint to specify the equality constraint and `{'type': 'ineq'}` constraint to specify the inequality constraints."
   ]
  },
  {
   "cell_type": "markdown",
   "id": "39545172",
   "metadata": {},
   "source": [
    "## Portfolio Optimization\n",
    "\n",
    "Portfolio optimization is the process of selecting the optimal combination of assets to achieve a desired risk-return profile. We will explore how to use the SciPy library in Python to perform portfolio optimization.\n",
    "\n",
    "Before we dive into the specifics of using SciPy, let's first define some important terms related to portfolio optimization:\n",
    "\n",
    "- Return: The gain or loss on an investment, expressed as a percentage of the initial investment.\n",
    "- Risk: The likelihood that an investment's actual return will differ from its expected return.\n",
    "- Covariance: The measure of how two assets move in relation to each other.\n",
    "- Correlation: A statistical measure that indicates the extent to which two or more variables are related.\n",
    "Now, let's move on to how to use SciPy for portfolio optimization.\n",
    "\n",
    "First, we need to import the necessary libraries. We will use the following libraries:"
   ]
  },
  {
   "cell_type": "code",
   "execution_count": 13,
   "id": "2c2b673c",
   "metadata": {},
   "outputs": [],
   "source": [
    "import numpy as np\n",
    "import pandas as pd\n",
    "import scipy.optimize as sco"
   ]
  },
  {
   "cell_type": "markdown",
   "id": "aa79277a",
   "metadata": {},
   "source": [
    "Next, we need to obtain our asset data. We will use a sample dataset of three stocks over seven periods.\n"
   ]
  },
  {
   "cell_type": "code",
   "execution_count": 14,
   "id": "f4d0d147",
   "metadata": {},
   "outputs": [
    {
     "data": {
      "text/html": [
       "<div>\n",
       "<style scoped>\n",
       "    .dataframe tbody tr th:only-of-type {\n",
       "        vertical-align: middle;\n",
       "    }\n",
       "\n",
       "    .dataframe tbody tr th {\n",
       "        vertical-align: top;\n",
       "    }\n",
       "\n",
       "    .dataframe thead th {\n",
       "        text-align: right;\n",
       "    }\n",
       "</style>\n",
       "<table border=\"1\" class=\"dataframe\">\n",
       "  <thead>\n",
       "    <tr style=\"text-align: right;\">\n",
       "      <th></th>\n",
       "      <th>Stock A</th>\n",
       "      <th>Stock B</th>\n",
       "      <th>Stock C</th>\n",
       "    </tr>\n",
       "  </thead>\n",
       "  <tbody>\n",
       "    <tr>\n",
       "      <th>0</th>\n",
       "      <td>7</td>\n",
       "      <td>9</td>\n",
       "      <td>2</td>\n",
       "    </tr>\n",
       "    <tr>\n",
       "      <th>1</th>\n",
       "      <td>8</td>\n",
       "      <td>8</td>\n",
       "      <td>6</td>\n",
       "    </tr>\n",
       "    <tr>\n",
       "      <th>2</th>\n",
       "      <td>4</td>\n",
       "      <td>7</td>\n",
       "      <td>9</td>\n",
       "    </tr>\n",
       "    <tr>\n",
       "      <th>3</th>\n",
       "      <td>1</td>\n",
       "      <td>8</td>\n",
       "      <td>5</td>\n",
       "    </tr>\n",
       "    <tr>\n",
       "      <th>4</th>\n",
       "      <td>9</td>\n",
       "      <td>2</td>\n",
       "      <td>5</td>\n",
       "    </tr>\n",
       "    <tr>\n",
       "      <th>5</th>\n",
       "      <td>3</td>\n",
       "      <td>3</td>\n",
       "      <td>3</td>\n",
       "    </tr>\n",
       "    <tr>\n",
       "      <th>6</th>\n",
       "      <td>1</td>\n",
       "      <td>1</td>\n",
       "      <td>5</td>\n",
       "    </tr>\n",
       "  </tbody>\n",
       "</table>\n",
       "</div>"
      ],
      "text/plain": [
       "   Stock A  Stock B  Stock C\n",
       "0        7        9        2\n",
       "1        8        8        6\n",
       "2        4        7        9\n",
       "3        1        8        5\n",
       "4        9        2        5\n",
       "5        3        3        3\n",
       "6        1        1        5"
      ]
     },
     "execution_count": 14,
     "metadata": {},
     "output_type": "execute_result"
    }
   ],
   "source": [
    "stocks = ['Stock A', 'Stock B', 'Stock C']\n",
    "price_data = np.array([\n",
    "    [7,9,2],\n",
    "    [8,8,6],\n",
    "    [4,7,9],\n",
    "    [1,8,5],\n",
    "    [9,2,5],\n",
    "    [3,3,3],\n",
    "    [1,1,5]\n",
    "])\n",
    "\n",
    "data = pd.DataFrame(price_data, columns = stocks)\n",
    "data"
   ]
  },
  {
   "cell_type": "markdown",
   "id": "cf44e60f",
   "metadata": {},
   "source": [
    "We can plot the price movement using the `lineplot` function from the `seaborn` library as follows:"
   ]
  },
  {
   "cell_type": "code",
   "execution_count": 15,
   "id": "929fd1f1",
   "metadata": {},
   "outputs": [
    {
     "data": {
      "text/plain": [
       "<Axes: >"
      ]
     },
     "execution_count": 15,
     "metadata": {},
     "output_type": "execute_result"
    },
    {
     "data": {
      "image/png": "[encoded data removed]",
      "text/plain": [
       "<Figure size 1400x600 with 1 Axes>"
      ]
     },
     "metadata": {},
     "output_type": "display_data"
    }
   ],
   "source": [
    "import matplotlib.pyplot as plt\n",
    "import seaborn as sns\n",
    "\n",
    "plt.figure(figsize=(14,6))\n",
    "\n",
    "sns.lineplot(data=data)"
   ]
  },
  {
   "cell_type": "markdown",
   "id": "f7e6a030",
   "metadata": {},
   "source": [
    "The `returns` can be calculated by subtracting the current price from the previous price using the `shift` function.  Remember to remove `NaN` values which occur from trying to subtract the initial price from a previous price which does not exist.  The leaves six return periods."
   ]
  },
  {
   "cell_type": "code",
   "execution_count": 16,
   "id": "2df8e91d",
   "metadata": {},
   "outputs": [
    {
     "data": {
      "text/html": [
       "<div>\n",
       "<style scoped>\n",
       "    .dataframe tbody tr th:only-of-type {\n",
       "        vertical-align: middle;\n",
       "    }\n",
       "\n",
       "    .dataframe tbody tr th {\n",
       "        vertical-align: top;\n",
       "    }\n",
       "\n",
       "    .dataframe thead th {\n",
       "        text-align: right;\n",
       "    }\n",
       "</style>\n",
       "<table border=\"1\" class=\"dataframe\">\n",
       "  <thead>\n",
       "    <tr style=\"text-align: right;\">\n",
       "      <th></th>\n",
       "      <th>Stock A</th>\n",
       "      <th>Stock B</th>\n",
       "      <th>Stock C</th>\n",
       "    </tr>\n",
       "  </thead>\n",
       "  <tbody>\n",
       "    <tr>\n",
       "      <th>1</th>\n",
       "      <td>0.142857</td>\n",
       "      <td>-0.111111</td>\n",
       "      <td>2.000000</td>\n",
       "    </tr>\n",
       "    <tr>\n",
       "      <th>2</th>\n",
       "      <td>-0.500000</td>\n",
       "      <td>-0.125000</td>\n",
       "      <td>0.500000</td>\n",
       "    </tr>\n",
       "    <tr>\n",
       "      <th>3</th>\n",
       "      <td>-0.750000</td>\n",
       "      <td>0.142857</td>\n",
       "      <td>-0.444444</td>\n",
       "    </tr>\n",
       "    <tr>\n",
       "      <th>4</th>\n",
       "      <td>8.000000</td>\n",
       "      <td>-0.750000</td>\n",
       "      <td>0.000000</td>\n",
       "    </tr>\n",
       "    <tr>\n",
       "      <th>5</th>\n",
       "      <td>-0.666667</td>\n",
       "      <td>0.500000</td>\n",
       "      <td>-0.400000</td>\n",
       "    </tr>\n",
       "    <tr>\n",
       "      <th>6</th>\n",
       "      <td>-0.666667</td>\n",
       "      <td>-0.666667</td>\n",
       "      <td>0.666667</td>\n",
       "    </tr>\n",
       "  </tbody>\n",
       "</table>\n",
       "</div>"
      ],
      "text/plain": [
       "    Stock A   Stock B   Stock C\n",
       "1  0.142857 -0.111111  2.000000\n",
       "2 -0.500000 -0.125000  0.500000\n",
       "3 -0.750000  0.142857 -0.444444\n",
       "4  8.000000 -0.750000  0.000000\n",
       "5 -0.666667  0.500000 -0.400000\n",
       "6 -0.666667 -0.666667  0.666667"
      ]
     },
     "execution_count": 16,
     "metadata": {},
     "output_type": "execute_result"
    }
   ],
   "source": [
    "returns = data/data.shift(1)-1\n",
    "returns = returns.dropna()\n",
    "returns"
   ]
  },
  {
   "cell_type": "markdown",
   "id": "8875aa61",
   "metadata": {},
   "source": [
    "We can plot the returns using the `lineplot` function from the `seaborn` library as follows:"
   ]
  },
  {
   "cell_type": "code",
   "execution_count": 17,
   "id": "0f6ee2e7",
   "metadata": {},
   "outputs": [
    {
     "data": {
      "text/plain": [
       "<Axes: >"
      ]
     },
     "execution_count": 17,
     "metadata": {},
     "output_type": "execute_result"
    },
    {
     "data": {
      "image/png": "[encoded data removed]",
      "text/plain": [
       "<Figure size 1400x600 with 1 Axes>"
      ]
     },
     "metadata": {},
     "output_type": "display_data"
    }
   ],
   "source": [
    "plt.figure(figsize=(14,6))\n",
    "\n",
    "sns.lineplot(data=returns)"
   ]
  },
  {
   "cell_type": "markdown",
   "id": "ea26d084",
   "metadata": {},
   "source": [
    "`Stock A` has the highest return from period 3 to period 4 but also the highest drop in price from period 4 to period 5.\n",
    "\n",
    "We can calculate the average returns using the `mean` function."
   ]
  },
  {
   "cell_type": "code",
   "execution_count": 18,
   "id": "ef75af74",
   "metadata": {},
   "outputs": [
    {
     "data": {
      "text/plain": [
       "Stock A    0.926587\n",
       "Stock B   -0.168320\n",
       "Stock C    0.387037\n",
       "dtype: float64"
      ]
     },
     "execution_count": 18,
     "metadata": {},
     "output_type": "execute_result"
    }
   ],
   "source": [
    "mean_returns = returns.mean()\n",
    "mean_returns"
   ]
  },
  {
   "cell_type": "markdown",
   "id": "f5f31cf4",
   "metadata": {},
   "source": [
    "In terms of the average returns, `Stock A` performs the best and `Stock B` performs the worst.\n",
    "\n",
    "We can visualise this by deriving a bar chart using the `barplot` function from the `seaborn` library."
   ]
  },
  {
   "cell_type": "code",
   "execution_count": 19,
   "id": "fdb45f07",
   "metadata": {},
   "outputs": [
    {
     "data": {
      "text/plain": [
       "<Axes: >"
      ]
     },
     "execution_count": 19,
     "metadata": {},
     "output_type": "execute_result"
    },
    {
     "data": {
      "image/png": "[encoded data removed]",
      "text/plain": [
       "<Figure size 1000x500 with 1 Axes>"
      ]
     },
     "metadata": {},
     "output_type": "display_data"
    }
   ],
   "source": [
    "plt.figure(figsize=(10,5))\n",
    "\n",
    "sns.barplot(x=mean_returns.index, y=mean_returns)"
   ]
  },
  {
   "cell_type": "markdown",
   "id": "0319cadc",
   "metadata": {},
   "source": [
    "According to Markowitz, return is not the only metric that should be considered when selecting a portfolio of assets.  These returns are not guaranteed due to volatility in price movement.  Hence we can calculate the standard deviation using the `std` function and plot the volatility on a bar chart.  "
   ]
  },
  {
   "cell_type": "code",
   "execution_count": 20,
   "id": "5d925054",
   "metadata": {},
   "outputs": [
    {
     "data": {
      "text/plain": [
       "Stock A    3.480529\n",
       "Stock B    0.476515\n",
       "Stock C    0.911393\n",
       "dtype: float64"
      ]
     },
     "execution_count": 20,
     "metadata": {},
     "output_type": "execute_result"
    }
   ],
   "source": [
    "st_dev = returns.std()\n",
    "st_dev"
   ]
  },
  {
   "cell_type": "code",
   "execution_count": 21,
   "id": "998ea8b8",
   "metadata": {},
   "outputs": [
    {
     "data": {
      "text/plain": [
       "<Axes: >"
      ]
     },
     "execution_count": 21,
     "metadata": {},
     "output_type": "execute_result"
    },
    {
     "data": {
      "image/png": "[encoded data removed]",
      "text/plain": [
       "<Figure size 1000x500 with 1 Axes>"
      ]
     },
     "metadata": {},
     "output_type": "display_data"
    }
   ],
   "source": [
    "plt.figure(figsize=(10,5))\n",
    "\n",
    "sns.barplot(x=st_dev.index, y=st_dev)"
   ]
  },
  {
   "cell_type": "markdown",
   "id": "332e79ba",
   "metadata": {},
   "source": [
    "The graph above indicates that higher volatilites are rewarded with higher returns.  To determine which stock has a higher reward for a given level of volatility, we can calculate the Sharpe Ratio which determines which the return per unit of risk"
   ]
  },
  {
   "cell_type": "code",
   "execution_count": 22,
   "id": "14a0fe46",
   "metadata": {},
   "outputs": [
    {
     "data": {
      "text/plain": [
       "Stock A    0.266220\n",
       "Stock B   -0.353231\n",
       "Stock C    0.424665\n",
       "dtype: float64"
      ]
     },
     "execution_count": 22,
     "metadata": {},
     "output_type": "execute_result"
    }
   ],
   "source": [
    "sharpe_ratio = mean_returns/st_dev\n",
    "sharpe_ratio"
   ]
  },
  {
   "cell_type": "code",
   "execution_count": 23,
   "id": "1648cf1b",
   "metadata": {},
   "outputs": [
    {
     "data": {
      "text/plain": [
       "<Axes: >"
      ]
     },
     "execution_count": 23,
     "metadata": {},
     "output_type": "execute_result"
    },
    {
     "data": {
      "image/png": "[encoded data removed]",
      "text/plain": [
       "<Figure size 1000x500 with 1 Axes>"
      ]
     },
     "metadata": {},
     "output_type": "display_data"
    }
   ],
   "source": [
    "plt.figure(figsize=(10,5))\n",
    "\n",
    "sns.barplot(x=sharpe_ratio.index, y=sharpe_ratio)"
   ]
  },
  {
   "cell_type": "markdown",
   "id": "1bcd2c94",
   "metadata": {},
   "source": [
    "The above graphic shows that `Stock C` is the best performing stock according to the Sharpe Ratio, even though `Stock A` produces the highest return on average.\n",
    "\n",
    "However, even though the graphics are a good indicator of how the portfolio should be constructed, they do not account for portfolio diversification.  Hence we need to calculate the variance-covariance matrix using the `cov` function which will be used to calculate portfolio volatility.  Portfolio volatility is used as the objective function for the minimum variance portfolio and accounts for the denominator of the objective function for the maximum Sharpe Ratio portfolio."
   ]
  },
  {
   "cell_type": "code",
   "execution_count": 24,
   "id": "f2a53d99",
   "metadata": {},
   "outputs": [
    {
     "data": {
      "text/html": [
       "<div>\n",
       "<style scoped>\n",
       "    .dataframe tbody tr th:only-of-type {\n",
       "        vertical-align: middle;\n",
       "    }\n",
       "\n",
       "    .dataframe tbody tr th {\n",
       "        vertical-align: top;\n",
       "    }\n",
       "\n",
       "    .dataframe thead th {\n",
       "        text-align: right;\n",
       "    }\n",
       "</style>\n",
       "<table border=\"1\" class=\"dataframe\">\n",
       "  <thead>\n",
       "    <tr style=\"text-align: right;\">\n",
       "      <th></th>\n",
       "      <th>Stock A</th>\n",
       "      <th>Stock B</th>\n",
       "      <th>Stock C</th>\n",
       "    </tr>\n",
       "  </thead>\n",
       "  <tbody>\n",
       "    <tr>\n",
       "      <th>Stock A</th>\n",
       "      <td>12.114083</td>\n",
       "      <td>-1.002725</td>\n",
       "      <td>-0.392094</td>\n",
       "    </tr>\n",
       "    <tr>\n",
       "      <th>Stock B</th>\n",
       "      <td>-1.002725</td>\n",
       "      <td>0.227067</td>\n",
       "      <td>-0.120356</td>\n",
       "    </tr>\n",
       "    <tr>\n",
       "      <th>Stock C</th>\n",
       "      <td>-0.392094</td>\n",
       "      <td>-0.120356</td>\n",
       "      <td>0.830638</td>\n",
       "    </tr>\n",
       "  </tbody>\n",
       "</table>\n",
       "</div>"
      ],
      "text/plain": [
       "           Stock A   Stock B   Stock C\n",
       "Stock A  12.114083 -1.002725 -0.392094\n",
       "Stock B  -1.002725  0.227067 -0.120356\n",
       "Stock C  -0.392094 -0.120356  0.830638"
      ]
     },
     "execution_count": 24,
     "metadata": {},
     "output_type": "execute_result"
    }
   ],
   "source": [
    "cov_matrix = returns.cov()\n",
    "cov_matrix"
   ]
  },
  {
   "cell_type": "markdown",
   "id": "3b3b2f15",
   "metadata": {},
   "source": [
    "Using `seaborn` to produce a heatmap using the `heatmap` function, we can see that the all the stocks have negative covariance with each other.  Along the principal diagonal, we can see the variance of each stock (covariance with itself).  `Stock A` is the most volatile."
   ]
  },
  {
   "cell_type": "code",
   "execution_count": 25,
   "id": "8038ce66",
   "metadata": {},
   "outputs": [
    {
     "data": {
      "text/plain": [
       "<Axes: >"
      ]
     },
     "execution_count": 25,
     "metadata": {},
     "output_type": "execute_result"
    },
    {
     "data": {
      "image/png": "[encoded data removed]",
      "text/plain": [
       "<Figure size 600x600 with 2 Axes>"
      ]
     },
     "metadata": {},
     "output_type": "display_data"
    }
   ],
   "source": [
    "plt.figure(figsize=(6,6))\n",
    "\n",
    "sns.heatmap(cov_matrix,annot=True)"
   ]
  },
  {
   "cell_type": "markdown",
   "id": "7cfb9e01",
   "metadata": {},
   "source": [
    "## Maximum Sharpe Ratio\n",
    "\n",
    "The maximum Sharpe Ratio portfolio maximizes the portfolio Sharpe Ratio by adjusting the weights of each stock within the portfolio.  Since `scipy.optimize` does not have a maxmization function, we need to multiply the objective function by negative 1 such that minimization of this new function is actually maximizing the original function.  We can create the objective function by creating a python function"
   ]
  },
  {
   "cell_type": "code",
   "execution_count": 26,
   "id": "384c0415",
   "metadata": {},
   "outputs": [],
   "source": [
    "def neg_sharpe_ratio(weights, mean_returns, cov_matrix):\n",
    "    portfolio_return = np.sum(mean_returns * weights)\n",
    "    portfolio_var = np.dot(weights.T, np.dot(cov_matrix, weights))\n",
    "    portfolio_std_dev = np.sqrt(portfolio_var)\n",
    "    sharpe_ratio = portfolio_return / portfolio_std_dev\n",
    "    return -sharpe_ratio"
   ]
  },
  {
   "cell_type": "markdown",
   "id": "c6940b69",
   "metadata": {},
   "source": [
    "Next, we need to create the constraints using Python functions.  First constraint is that the weights need to sum up to 1 and the second constraint indicates that there is no shorting of assets i.e. each asset needs to have a non-negative weight."
   ]
  },
  {
   "cell_type": "code",
   "execution_count": 27,
   "id": "2bfd2f56",
   "metadata": {},
   "outputs": [],
   "source": [
    "def weight_constraint(weights):\n",
    "    return np.sum(weights) - 1\n",
    "\n",
    "def individual_weight_constraint(weights):\n",
    "    return weights"
   ]
  },
  {
   "cell_type": "markdown",
   "id": "5a0c5629",
   "metadata": {},
   "source": [
    "Finally, we need to combine the constraints into a dictionary, set the intial weights (most likely equally weighted or an arbitrary non-zero weight), indicate the bounds as a tuple for each weight (lower limit of zero and upper limit of one) and then feed these parameters into the `minimize` function using the `Sequential Least Squares Programming - SLSQP`"
   ]
  },
  {
   "cell_type": "code",
   "execution_count": 28,
   "id": "e581f1c1",
   "metadata": {},
   "outputs": [
    {
     "data": {
      "text/plain": [
       " message: Optimization terminated successfully\n",
       " success: True\n",
       "  status: 0\n",
       "     fun: -0.5324410276384252\n",
       "       x: [ 1.542e-01  2.906e-17  8.458e-01]\n",
       "     nit: 8\n",
       "     jac: [-7.664e-04  1.557e-02  1.397e-04]\n",
       "    nfev: 33\n",
       "    njev: 8"
      ]
     },
     "execution_count": 28,
     "metadata": {},
     "output_type": "execute_result"
    }
   ],
   "source": [
    "constraints = ({'type': 'eq', 'fun': weight_constraint},\n",
    "               {'type': 'ineq', 'fun': individual_weight_constraint})\n",
    "\n",
    "initial_weights = np.array([1/len(data.columns) for i in range(len(data.columns))])\n",
    "bounds = tuple((0, 1) for i in range(len(data.columns)))\n",
    "\n",
    "result = sco.minimize(neg_sharpe_ratio, initial_weights, args=(mean_returns, cov_matrix), method='SLSQP', bounds=bounds, constraints=constraints)\n",
    "result"
   ]
  },
  {
   "cell_type": "code",
   "execution_count": 29,
   "id": "93d132a5",
   "metadata": {},
   "outputs": [
    {
     "name": "stdout",
     "output_type": "stream",
     "text": [
      "The Maximum Sharpe Ratio Portfolio produces a maximum return of  0.53\n",
      "With a weight vector as follows:  [0.15 0.   0.85]\n"
     ]
    }
   ],
   "source": [
    "print('The Maximum Sharpe Ratio Portfolio produces a maximum return of ', -np.round(result.fun,2))\n",
    "print('With a weight vector as follows: ', np.round(result.x,2))"
   ]
  },
  {
   "cell_type": "markdown",
   "id": "6b8fcf28",
   "metadata": {},
   "source": [
    "## Minimum Variance\n",
    "\n",
    "The Minimum Variance portfolio minimizes portfolio variance by adjusting the weights of each stock within the portfolio.  `scipy.optimize` can be used to minimize the portfolio variance.  We can create the objective function by creating a python function which takes `weights` and `cov_matrix` as arguments."
   ]
  },
  {
   "cell_type": "code",
   "execution_count": 30,
   "id": "7d50770f",
   "metadata": {},
   "outputs": [],
   "source": [
    "def portfolio_var(weights, cov_matrix):\n",
    "    portfolio_var = np.dot(weights.T, np.dot(cov_matrix, weights))\n",
    "    return portfolio_var"
   ]
  },
  {
   "cell_type": "code",
   "execution_count": 31,
   "id": "8706342d",
   "metadata": {},
   "outputs": [],
   "source": [
    "def weight_constraint(weights):\n",
    "    return np.sum(weights) - 1\n",
    "\n",
    "def individual_weight_constraint(weights):\n",
    "    return weights"
   ]
  },
  {
   "cell_type": "code",
   "execution_count": 32,
   "id": "a2cc66d7",
   "metadata": {},
   "outputs": [
    {
     "data": {
      "text/plain": [
       " message: Optimization terminated successfully\n",
       " success: True\n",
       "  status: 0\n",
       "     fun: 0.0646323593658885\n",
       "       x: [ 7.137e-02  7.137e-01  2.149e-01]\n",
       "     nit: 6\n",
       "     jac: [ 1.293e-01  1.293e-01  1.293e-01]\n",
       "    nfev: 25\n",
       "    njev: 6"
      ]
     },
     "execution_count": 32,
     "metadata": {},
     "output_type": "execute_result"
    }
   ],
   "source": [
    "constraints = ({'type': 'eq', 'fun': weight_constraint},\n",
    "               {'type': 'ineq', 'fun': individual_weight_constraint})\n",
    "\n",
    "initial_weights = np.array([1/len(data.columns) for i in range(len(data.columns))])\n",
    "bounds = tuple((0, 1) for i in range(len(data.columns)))\n",
    "\n",
    "result = sco.minimize(portfolio_var, initial_weights, args=(cov_matrix), method='SLSQP', bounds=bounds, constraints=constraints)\n",
    "result"
   ]
  },
  {
   "cell_type": "code",
   "execution_count": 33,
   "id": "c807d1c5",
   "metadata": {},
   "outputs": [
    {
     "name": "stdout",
     "output_type": "stream",
     "text": [
      "The Minimum Variance Portfolio produces a minimum variance of  0.06\n",
      "With a weight vector as follows:  [0.07 0.71 0.21]\n"
     ]
    }
   ],
   "source": [
    "print('The Minimum Variance Portfolio produces a minimum variance of ', np.round(result.fun,2))\n",
    "print('With a weight vector as follows: ', np.round(result.x,2))"
   ]
  },
  {
   "cell_type": "markdown",
   "id": "397d574e",
   "metadata": {},
   "source": [
    "## Maximum Return\n",
    "\n",
    "The Maximum Return portfolio maximizes portfolio return by adjusting the weights of each stock within the portfolio.  `scipy.optimize` can be used to minimize the negative of the portfolio return.  We can create the objective function by creating a python function which takes `weights` and `mean_returns` as arguments."
   ]
  },
  {
   "cell_type": "code",
   "execution_count": 34,
   "id": "033cdbb8",
   "metadata": {},
   "outputs": [],
   "source": [
    "def neg_portfolio_return(weights, mean_returns):\n",
    "    portfolio_return = np.sum(mean_returns * weights)\n",
    "    return -portfolio_return"
   ]
  },
  {
   "cell_type": "code",
   "execution_count": 35,
   "id": "fd6586b0",
   "metadata": {},
   "outputs": [],
   "source": [
    "def weight_constraint(weights):\n",
    "    return np.sum(weights) - 1\n",
    "\n",
    "def individual_weight_constraint(weights):\n",
    "    return weights"
   ]
  },
  {
   "cell_type": "code",
   "execution_count": 36,
   "id": "23a634e7",
   "metadata": {},
   "outputs": [
    {
     "data": {
      "text/plain": [
       " message: Optimization terminated successfully\n",
       " success: True\n",
       "  status: 0\n",
       "     fun: -0.9265873015873014\n",
       "       x: [ 1.000e+00  0.000e+00  0.000e+00]\n",
       "     nit: 3\n",
       "     jac: [-9.266e-01  1.683e-01 -3.870e-01]\n",
       "    nfev: 12\n",
       "    njev: 3"
      ]
     },
     "execution_count": 36,
     "metadata": {},
     "output_type": "execute_result"
    }
   ],
   "source": [
    "constraints = ({'type': 'eq', 'fun': weight_constraint},\n",
    "               {'type': 'ineq', 'fun': individual_weight_constraint})\n",
    "\n",
    "initial_weights = np.array([1/len(data.columns) for i in range(len(data.columns))])\n",
    "bounds = tuple((0, 1) for i in range(len(data.columns)))\n",
    "\n",
    "result = sco.minimize(neg_portfolio_return, initial_weights, args=(mean_returns), method='SLSQP', bounds=bounds, constraints=constraints)\n",
    "result"
   ]
  },
  {
   "cell_type": "code",
   "execution_count": 37,
   "id": "1bdc2928",
   "metadata": {},
   "outputs": [
    {
     "name": "stdout",
     "output_type": "stream",
     "text": [
      "The Maximum Return Portfolio produces a maximum return of  0.93\n",
      "With a weight vector as follows:  [1. 0. 0.]\n"
     ]
    }
   ],
   "source": [
    "print('The Maximum Return Portfolio produces a maximum return of ', -np.round(result.fun,2))\n",
    "print('With a weight vector as follows: ', np.round(result.x,2))"
   ]
  },
  {
   "cell_type": "markdown",
   "id": "e8b1190a",
   "metadata": {},
   "source": [
    "`sco.minimize` function takes several arguments.  `"
   ]
  },
  {
   "cell_type": "markdown",
   "id": "d35e4857",
   "metadata": {},
   "source": [
    "## Risk Parity Portfolio\n",
    "\n",
    "The Risk Parity Portfolio maximizes returns or minimizes portfolio variance with an additional constraints.  The number of additional constraints are equal to `m-1` where `m` is the number of stocks in a portfolio.  These additional constraints stipulate that the marginal contribution of each stock to portfolio risk needs to be equal to every other stock in the portfolio.  For instance in a three stock portfolio, there will be two additional constraints where the marginal contribution on `Stock A` needs to be equal to the marginal constribution of `Stock B`.  Furthermore, the marginal contribution of `Stock B` needs to be equal to the marginal contribution to `Stock C`.  Therefore by Young's Theorem, the marginal contribution of `Stock A` will be equal to the marginal contribution of `Stock C` and hence does not need to be stipulated.\n",
    "\n",
    "Since the previous example does not have a point where this is true, a new example is generated for Risk Parity Portfolio following the steps of previous examples and only changing with regards to the constraints."
   ]
  },
  {
   "cell_type": "code",
   "execution_count": 38,
   "id": "943b6699",
   "metadata": {},
   "outputs": [
    {
     "data": {
      "text/html": [
       "<div>\n",
       "<style scoped>\n",
       "    .dataframe tbody tr th:only-of-type {\n",
       "        vertical-align: middle;\n",
       "    }\n",
       "\n",
       "    .dataframe tbody tr th {\n",
       "        vertical-align: top;\n",
       "    }\n",
       "\n",
       "    .dataframe thead th {\n",
       "        text-align: right;\n",
       "    }\n",
       "</style>\n",
       "<table border=\"1\" class=\"dataframe\">\n",
       "  <thead>\n",
       "    <tr style=\"text-align: right;\">\n",
       "      <th></th>\n",
       "      <th>Stock A</th>\n",
       "      <th>Stock B</th>\n",
       "      <th>Stock C</th>\n",
       "    </tr>\n",
       "  </thead>\n",
       "  <tbody>\n",
       "    <tr>\n",
       "      <th>0</th>\n",
       "      <td>10</td>\n",
       "      <td>5</td>\n",
       "      <td>1</td>\n",
       "    </tr>\n",
       "    <tr>\n",
       "      <th>1</th>\n",
       "      <td>5</td>\n",
       "      <td>10</td>\n",
       "      <td>2</td>\n",
       "    </tr>\n",
       "    <tr>\n",
       "      <th>2</th>\n",
       "      <td>10</td>\n",
       "      <td>5</td>\n",
       "      <td>4</td>\n",
       "    </tr>\n",
       "    <tr>\n",
       "      <th>3</th>\n",
       "      <td>4</td>\n",
       "      <td>1</td>\n",
       "      <td>8</td>\n",
       "    </tr>\n",
       "    <tr>\n",
       "      <th>4</th>\n",
       "      <td>2</td>\n",
       "      <td>2</td>\n",
       "      <td>8</td>\n",
       "    </tr>\n",
       "    <tr>\n",
       "      <th>5</th>\n",
       "      <td>1</td>\n",
       "      <td>1</td>\n",
       "      <td>1</td>\n",
       "    </tr>\n",
       "    <tr>\n",
       "      <th>6</th>\n",
       "      <td>5</td>\n",
       "      <td>10</td>\n",
       "      <td>4</td>\n",
       "    </tr>\n",
       "    <tr>\n",
       "      <th>7</th>\n",
       "      <td>10</td>\n",
       "      <td>5</td>\n",
       "      <td>8</td>\n",
       "    </tr>\n",
       "    <tr>\n",
       "      <th>8</th>\n",
       "      <td>1</td>\n",
       "      <td>5</td>\n",
       "      <td>10</td>\n",
       "    </tr>\n",
       "    <tr>\n",
       "      <th>9</th>\n",
       "      <td>4</td>\n",
       "      <td>10</td>\n",
       "      <td>8</td>\n",
       "    </tr>\n",
       "    <tr>\n",
       "      <th>10</th>\n",
       "      <td>2</td>\n",
       "      <td>4</td>\n",
       "      <td>4</td>\n",
       "    </tr>\n",
       "  </tbody>\n",
       "</table>\n",
       "</div>"
      ],
      "text/plain": [
       "    Stock A  Stock B  Stock C\n",
       "0        10        5        1\n",
       "1         5       10        2\n",
       "2        10        5        4\n",
       "3         4        1        8\n",
       "4         2        2        8\n",
       "5         1        1        1\n",
       "6         5       10        4\n",
       "7        10        5        8\n",
       "8         1        5       10\n",
       "9         4       10        8\n",
       "10        2        4        4"
      ]
     },
     "execution_count": 38,
     "metadata": {},
     "output_type": "execute_result"
    }
   ],
   "source": [
    "P = np.array([\n",
    "    [10,5,1],\n",
    "    [5,10,2],\n",
    "    [10,5,4],\n",
    "    [4,1,8],\n",
    "    [2,2,8],\n",
    "    [1,1,1],\n",
    "    [5,10,4],\n",
    "    [10,5,8],\n",
    "    [1,5,10],\n",
    "    [4,10,8],\n",
    "    [2,4,4]\n",
    "])\n",
    "\n",
    "data = pd.DataFrame(P,columns=stocks)\n",
    "data"
   ]
  },
  {
   "cell_type": "code",
   "execution_count": 39,
   "id": "05274e86",
   "metadata": {},
   "outputs": [
    {
     "data": {
      "text/html": [
       "<div>\n",
       "<style scoped>\n",
       "    .dataframe tbody tr th:only-of-type {\n",
       "        vertical-align: middle;\n",
       "    }\n",
       "\n",
       "    .dataframe tbody tr th {\n",
       "        vertical-align: top;\n",
       "    }\n",
       "\n",
       "    .dataframe thead th {\n",
       "        text-align: right;\n",
       "    }\n",
       "</style>\n",
       "<table border=\"1\" class=\"dataframe\">\n",
       "  <thead>\n",
       "    <tr style=\"text-align: right;\">\n",
       "      <th></th>\n",
       "      <th>Stock A</th>\n",
       "      <th>Stock B</th>\n",
       "      <th>Stock C</th>\n",
       "    </tr>\n",
       "  </thead>\n",
       "  <tbody>\n",
       "    <tr>\n",
       "      <th>1</th>\n",
       "      <td>-0.5</td>\n",
       "      <td>1.0</td>\n",
       "      <td>1.000</td>\n",
       "    </tr>\n",
       "    <tr>\n",
       "      <th>2</th>\n",
       "      <td>1.0</td>\n",
       "      <td>-0.5</td>\n",
       "      <td>1.000</td>\n",
       "    </tr>\n",
       "    <tr>\n",
       "      <th>3</th>\n",
       "      <td>-0.6</td>\n",
       "      <td>-0.8</td>\n",
       "      <td>1.000</td>\n",
       "    </tr>\n",
       "    <tr>\n",
       "      <th>4</th>\n",
       "      <td>-0.5</td>\n",
       "      <td>1.0</td>\n",
       "      <td>0.000</td>\n",
       "    </tr>\n",
       "    <tr>\n",
       "      <th>5</th>\n",
       "      <td>-0.5</td>\n",
       "      <td>-0.5</td>\n",
       "      <td>-0.875</td>\n",
       "    </tr>\n",
       "    <tr>\n",
       "      <th>6</th>\n",
       "      <td>4.0</td>\n",
       "      <td>9.0</td>\n",
       "      <td>3.000</td>\n",
       "    </tr>\n",
       "    <tr>\n",
       "      <th>7</th>\n",
       "      <td>1.0</td>\n",
       "      <td>-0.5</td>\n",
       "      <td>1.000</td>\n",
       "    </tr>\n",
       "    <tr>\n",
       "      <th>8</th>\n",
       "      <td>-0.9</td>\n",
       "      <td>0.0</td>\n",
       "      <td>0.250</td>\n",
       "    </tr>\n",
       "    <tr>\n",
       "      <th>9</th>\n",
       "      <td>3.0</td>\n",
       "      <td>1.0</td>\n",
       "      <td>-0.200</td>\n",
       "    </tr>\n",
       "    <tr>\n",
       "      <th>10</th>\n",
       "      <td>-0.5</td>\n",
       "      <td>-0.6</td>\n",
       "      <td>-0.500</td>\n",
       "    </tr>\n",
       "  </tbody>\n",
       "</table>\n",
       "</div>"
      ],
      "text/plain": [
       "    Stock A  Stock B  Stock C\n",
       "1      -0.5      1.0    1.000\n",
       "2       1.0     -0.5    1.000\n",
       "3      -0.6     -0.8    1.000\n",
       "4      -0.5      1.0    0.000\n",
       "5      -0.5     -0.5   -0.875\n",
       "6       4.0      9.0    3.000\n",
       "7       1.0     -0.5    1.000\n",
       "8      -0.9      0.0    0.250\n",
       "9       3.0      1.0   -0.200\n",
       "10     -0.5     -0.6   -0.500"
      ]
     },
     "execution_count": 39,
     "metadata": {},
     "output_type": "execute_result"
    }
   ],
   "source": [
    "returns = data/data.shift(1)-1\n",
    "returns = returns.dropna()\n",
    "returns"
   ]
  },
  {
   "cell_type": "code",
   "execution_count": 40,
   "id": "f58e38fe",
   "metadata": {},
   "outputs": [
    {
     "data": {
      "text/html": [
       "<div>\n",
       "<style scoped>\n",
       "    .dataframe tbody tr th:only-of-type {\n",
       "        vertical-align: middle;\n",
       "    }\n",
       "\n",
       "    .dataframe tbody tr th {\n",
       "        vertical-align: top;\n",
       "    }\n",
       "\n",
       "    .dataframe thead th {\n",
       "        text-align: right;\n",
       "    }\n",
       "</style>\n",
       "<table border=\"1\" class=\"dataframe\">\n",
       "  <thead>\n",
       "    <tr style=\"text-align: right;\">\n",
       "      <th></th>\n",
       "      <th>Stock A</th>\n",
       "      <th>Stock B</th>\n",
       "      <th>Stock C</th>\n",
       "    </tr>\n",
       "  </thead>\n",
       "  <tbody>\n",
       "    <tr>\n",
       "      <th>Stock A</th>\n",
       "      <td>2.905000</td>\n",
       "      <td>3.669444</td>\n",
       "      <td>1.071250</td>\n",
       "    </tr>\n",
       "    <tr>\n",
       "      <th>Stock B</th>\n",
       "      <td>3.669444</td>\n",
       "      <td>8.607667</td>\n",
       "      <td>2.397028</td>\n",
       "    </tr>\n",
       "    <tr>\n",
       "      <th>Stock C</th>\n",
       "      <td>1.071250</td>\n",
       "      <td>2.397028</td>\n",
       "      <td>1.210840</td>\n",
       "    </tr>\n",
       "  </tbody>\n",
       "</table>\n",
       "</div>"
      ],
      "text/plain": [
       "          Stock A   Stock B   Stock C\n",
       "Stock A  2.905000  3.669444  1.071250\n",
       "Stock B  3.669444  8.607667  2.397028\n",
       "Stock C  1.071250  2.397028  1.210840"
      ]
     },
     "execution_count": 40,
     "metadata": {},
     "output_type": "execute_result"
    }
   ],
   "source": [
    "cov_matrix = returns.cov()\n",
    "cov_matrix"
   ]
  },
  {
   "cell_type": "code",
   "execution_count": 41,
   "id": "7354f17d",
   "metadata": {},
   "outputs": [],
   "source": [
    "def neg_portfolio_return(weights, mean_returns):\n",
    "    portfolio_return = np.sum(mean_returns * weights)\n",
    "    return -portfolio_return"
   ]
  },
  {
   "cell_type": "code",
   "execution_count": 42,
   "id": "ca281c84",
   "metadata": {},
   "outputs": [],
   "source": [
    "def weight_constraint(weights):\n",
    "    return np.sum(weights) - 1\n",
    "\n",
    "def individual_weight_constraint(weights):\n",
    "    return weights\n",
    "\n",
    "def MCA_MCB(weights):\n",
    "    portfolio_var = np.dot(weights.T, np.dot(cov_matrix, weights))\n",
    "    MCA = (weights[0]/portfolio_var)*(weights@cov_matrix.iloc[0])\n",
    "    MCB = (weights[1]/portfolio_var)*(weights@cov_matrix.iloc[1])\n",
    "    return MCA-MCB\n",
    "\n",
    "def MCB_MCC(weights):\n",
    "    portfolio_var = np.dot(weights.T, np.dot(cov_matrix, weights))\n",
    "    MCB = (weights[1]/portfolio_var)*(weights@cov_matrix.iloc[1])\n",
    "    MCC = (weights[2]/portfolio_var)*(weights@cov_matrix.iloc[2])\n",
    "    return MCB-MCC"
   ]
  },
  {
   "cell_type": "code",
   "execution_count": 43,
   "id": "47e38e91",
   "metadata": {},
   "outputs": [
    {
     "data": {
      "text/plain": [
       " message: Optimization terminated successfully\n",
       " success: True\n",
       "  status: 0\n",
       "     fun: -0.46394757660769514\n",
       "       x: [ 3.238e-01  1.761e-01  5.001e-01]\n",
       "     nit: 4\n",
       "     jac: [-9.266e-01  1.683e-01 -3.870e-01]\n",
       "    nfev: 17\n",
       "    njev: 4"
      ]
     },
     "execution_count": 43,
     "metadata": {},
     "output_type": "execute_result"
    }
   ],
   "source": [
    "constraints = ({'type': 'eq', 'fun': weight_constraint},\n",
    "               {'type': 'eq', 'fun': MCA_MCB},\n",
    "               {'type': 'eq', 'fun': MCB_MCC},\n",
    "               {'type': 'ineq', 'fun': individual_weight_constraint})\n",
    "\n",
    "initial_weights = np.array([1/len(data.columns) for i in range(len(data.columns))])\n",
    "bounds = tuple((0, 1) for i in range(len(data.columns)))\n",
    "\n",
    "result = sco.minimize(neg_portfolio_return, initial_weights, args=(mean_returns), method='SLSQP', bounds=bounds, constraints=constraints)\n",
    "result"
   ]
  },
  {
   "cell_type": "code",
   "execution_count": 44,
   "id": "299f99a5",
   "metadata": {},
   "outputs": [
    {
     "name": "stdout",
     "output_type": "stream",
     "text": [
      "The Risk Parity Portfolio produces a maximum return of  0.46\n",
      "With a weight vector as follows:  [0.32 0.18 0.5 ]\n"
     ]
    }
   ],
   "source": [
    "print('The Risk Parity Portfolio produces a maximum return of ', -np.round(result.fun,2))\n",
    "print('With a weight vector as follows: ', np.round(result.x,2))"
   ]
  },
  {
   "cell_type": "markdown",
   "id": "90d26000",
   "metadata": {},
   "source": [
    "We can check these answers by computing the marginal contribution of each stock to portfolio risk as follows:"
   ]
  },
  {
   "cell_type": "code",
   "execution_count": 45,
   "id": "ff74ed50",
   "metadata": {},
   "outputs": [
    {
     "data": {
      "text/plain": [
       "0.33333333332299475"
      ]
     },
     "execution_count": 45,
     "metadata": {},
     "output_type": "execute_result"
    }
   ],
   "source": [
    "weights = result.x\n",
    "portfolio_var = np.dot(weights.T, np.dot(cov_matrix, weights))\n",
    "MCA = (weights[0]/portfolio_var)*(weights@cov_matrix.iloc[0])\n",
    "MCA"
   ]
  },
  {
   "cell_type": "code",
   "execution_count": 46,
   "id": "c3d41d2c",
   "metadata": {},
   "outputs": [
    {
     "data": {
      "text/plain": [
       "0.33333333331297366"
      ]
     },
     "execution_count": 46,
     "metadata": {},
     "output_type": "execute_result"
    }
   ],
   "source": [
    "MCB = (weights[1]/portfolio_var)*(weights@cov_matrix.iloc[1])\n",
    "MCB"
   ]
  },
  {
   "cell_type": "code",
   "execution_count": 47,
   "id": "3269c0c9",
   "metadata": {},
   "outputs": [
    {
     "data": {
      "text/plain": [
       "0.3333333333640315"
      ]
     },
     "execution_count": 47,
     "metadata": {},
     "output_type": "execute_result"
    }
   ],
   "source": [
    "MCC = (weights[2]/portfolio_var)*(weights@cov_matrix.iloc[2])\n",
    "MCC"
   ]
  }
 ],
 "metadata": {
  "kernelspec": {
   "display_name": "Python 3",
   "language": "python",
   "name": "python3"
  },
  "language_info": {
   "codemirror_mode": {
    "name": "ipython",
    "version": 3
   },
   "file_extension": ".py",
   "mimetype": "text/x-python",
   "name": "python",
   "nbconvert_exporter": "python",
   "pygments_lexer": "ipython3",
   "version": "3.10.4"
  }
 },
 "nbformat": 4,
 "nbformat_minor": 5
}
