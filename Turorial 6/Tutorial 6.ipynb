{
 "cells": [
  {
   "attachments": {},
   "cell_type": "markdown",
   "id": "5960685d",
   "metadata": {},
   "source": [
    "# Portfolio Optimization"
   ]
  },
  {
   "attachments": {},
   "cell_type": "markdown",
   "id": "8becc534",
   "metadata": {},
   "source": [
    "Download the JSE Top 40 Closing Prices excel file from RUconnected and paste in the same directory as this notebook.  Import that excel file and store it as a DataFrame called `df`.\n",
    "\n",
    "Using the list below, select the stocks that have been chosen for you and store it as a DataFrame called `prices`:\n",
    "\n",
    "- 18S0848:[JSE:SLM,JSE:INL,JSE:MTN,JSE:NPH,JSE:GRT,JSE:SAP,JSE:RES,JSE:REM,JSE:IMP,JSE:AMS]\n",
    "- 18K5600:[JSE:TCP,JSE:MRP,JSE:SBK,JSE:EXX,JSE:CLS,JSE:GRT,JSE:AMS,JSE:TBS,JSE:MTN,JSE:DSY]\n",
    "- 19M8491:[JSE:GFI,JSE:APN,JSE:GRT,JSE:CPI,JSE:BVT,JSE:WHL,JSE:RES,JSE:TCP,JSE:NED,JSE:DSY]\n",
    "- 23M8732:[JSE:FSR,JSE:REM,JSE:APN,JSE:NED,JSE:TCP,JSE:GRT,JSE:GFI,JSE:SHP,JSE:MTN,JSE:DSY]\n",
    "- 23M4785:[JSE:GFI,JSE:TRU,JSE:CLS,JSE:MRP,JSE:TCP,JSE:MTN,JSE:BTI,JSE:SOL,JSE:NPN,JSE:DSY]\n",
    "- 17B5426:[JSE:ANG,JSE:AMS,JSE:SBK,JSE:SHP,JSE:INL,JSE:KIO,JSE:BTI,JSE:RDF,JSE:RES,JSE:EXX]\n",
    "- 23R7256:[JSE:IMP,JSE:LHC,JSE:SHP,JSE:BVT,JSE:GLN,JSE:BTI,JSE:EXX,JSE:NPN,JSE:CLS,JSE:AMS]\n",
    "\n",
    "Ensure that the `prices` DataFrame only contains records from 2022."
   ]
  },
  {
   "cell_type": "code",
   "execution_count": 2,
   "id": "1bf9fe6a",
   "metadata": {},
   "outputs": [],
   "source": [
    "import pandas as pd\n",
    "import numpy as np\n",
    "import matplotlib.pyplot as plt\n",
    "import seaborn as sns \n",
    "import scipy.optimize as sco\n"
   ]
  },
  {
   "cell_type": "code",
   "execution_count": 3,
   "id": "57e2756e",
   "metadata": {},
   "outputs": [
    {
     "data": {
      "text/html": [
       "<div>\n",
       "<style scoped>\n",
       "    .dataframe tbody tr th:only-of-type {\n",
       "        vertical-align: middle;\n",
       "    }\n",
       "\n",
       "    .dataframe tbody tr th {\n",
       "        vertical-align: top;\n",
       "    }\n",
       "\n",
       "    .dataframe thead th {\n",
       "        text-align: right;\n",
       "    }\n",
       "</style>\n",
       "<table border=\"1\" class=\"dataframe\">\n",
       "  <thead>\n",
       "    <tr style=\"text-align: right;\">\n",
       "      <th></th>\n",
       "      <th>Date</th>\n",
       "      <th>JSE:ABG</th>\n",
       "      <th>JSE:AMS</th>\n",
       "      <th>JSE:ANG</th>\n",
       "      <th>JSE:APN</th>\n",
       "      <th>JSE:BTI</th>\n",
       "      <th>JSE:BVT</th>\n",
       "      <th>JSE:CLS</th>\n",
       "      <th>JSE:CPI</th>\n",
       "      <th>JSE:DCP</th>\n",
       "      <th>...</th>\n",
       "      <th>JSE:RES</th>\n",
       "      <th>JSE:SAP</th>\n",
       "      <th>JSE:SBK</th>\n",
       "      <th>JSE:SHP</th>\n",
       "      <th>JSE:SLM</th>\n",
       "      <th>JSE:SOL</th>\n",
       "      <th>JSE:TBS</th>\n",
       "      <th>JSE:TCP</th>\n",
       "      <th>JSE:TRU</th>\n",
       "      <th>JSE:WHL</th>\n",
       "    </tr>\n",
       "  </thead>\n",
       "  <tbody>\n",
       "    <tr>\n",
       "      <th>0</th>\n",
       "      <td>03/01/2017</td>\n",
       "      <td>17000</td>\n",
       "      <td>27672</td>\n",
       "      <td>15093</td>\n",
       "      <td>28208</td>\n",
       "      <td>77975.0</td>\n",
       "      <td>17997</td>\n",
       "      <td>11746.0</td>\n",
       "      <td>69300</td>\n",
       "      <td>2235</td>\n",
       "      <td>...</td>\n",
       "      <td>11272</td>\n",
       "      <td>8900</td>\n",
       "      <td>15260</td>\n",
       "      <td>17295</td>\n",
       "      <td>6383</td>\n",
       "      <td>40657</td>\n",
       "      <td>39434</td>\n",
       "      <td>1375</td>\n",
       "      <td>8026</td>\n",
       "      <td>7184</td>\n",
       "    </tr>\n",
       "    <tr>\n",
       "      <th>1</th>\n",
       "      <td>04/01/2017</td>\n",
       "      <td>17170</td>\n",
       "      <td>28202</td>\n",
       "      <td>15339</td>\n",
       "      <td>28278</td>\n",
       "      <td>77050.0</td>\n",
       "      <td>17792</td>\n",
       "      <td>11450.0</td>\n",
       "      <td>68850</td>\n",
       "      <td>2212</td>\n",
       "      <td>...</td>\n",
       "      <td>11543</td>\n",
       "      <td>8842</td>\n",
       "      <td>15155</td>\n",
       "      <td>16901</td>\n",
       "      <td>6496</td>\n",
       "      <td>40440</td>\n",
       "      <td>39069</td>\n",
       "      <td>1376</td>\n",
       "      <td>8000</td>\n",
       "      <td>7090</td>\n",
       "    </tr>\n",
       "    <tr>\n",
       "      <th>2</th>\n",
       "      <td>05/01/2017</td>\n",
       "      <td>16680</td>\n",
       "      <td>29250</td>\n",
       "      <td>15900</td>\n",
       "      <td>27500</td>\n",
       "      <td>76825.0</td>\n",
       "      <td>17300</td>\n",
       "      <td>11249.0</td>\n",
       "      <td>69000</td>\n",
       "      <td>2209</td>\n",
       "      <td>...</td>\n",
       "      <td>11417</td>\n",
       "      <td>8800</td>\n",
       "      <td>14901</td>\n",
       "      <td>16840</td>\n",
       "      <td>6373</td>\n",
       "      <td>39950</td>\n",
       "      <td>39255</td>\n",
       "      <td>1421</td>\n",
       "      <td>7745</td>\n",
       "      <td>6909</td>\n",
       "    </tr>\n",
       "    <tr>\n",
       "      <th>3</th>\n",
       "      <td>06/01/2017</td>\n",
       "      <td>16950</td>\n",
       "      <td>28961</td>\n",
       "      <td>16030</td>\n",
       "      <td>27533</td>\n",
       "      <td>77096.0</td>\n",
       "      <td>17230</td>\n",
       "      <td>11344.0</td>\n",
       "      <td>68964</td>\n",
       "      <td>2175</td>\n",
       "      <td>...</td>\n",
       "      <td>11460</td>\n",
       "      <td>8845</td>\n",
       "      <td>15038</td>\n",
       "      <td>16733</td>\n",
       "      <td>6451</td>\n",
       "      <td>40360</td>\n",
       "      <td>39737</td>\n",
       "      <td>1391</td>\n",
       "      <td>7683</td>\n",
       "      <td>6977</td>\n",
       "    </tr>\n",
       "    <tr>\n",
       "      <th>4</th>\n",
       "      <td>09/01/2017</td>\n",
       "      <td>16967</td>\n",
       "      <td>28170</td>\n",
       "      <td>15614</td>\n",
       "      <td>27500</td>\n",
       "      <td>77466.0</td>\n",
       "      <td>17352</td>\n",
       "      <td>11423.0</td>\n",
       "      <td>68791</td>\n",
       "      <td>2201</td>\n",
       "      <td>...</td>\n",
       "      <td>11600</td>\n",
       "      <td>8800</td>\n",
       "      <td>15158</td>\n",
       "      <td>16850</td>\n",
       "      <td>6466</td>\n",
       "      <td>40102</td>\n",
       "      <td>39761</td>\n",
       "      <td>1389</td>\n",
       "      <td>7663</td>\n",
       "      <td>6894</td>\n",
       "    </tr>\n",
       "    <tr>\n",
       "      <th>...</th>\n",
       "      <td>...</td>\n",
       "      <td>...</td>\n",
       "      <td>...</td>\n",
       "      <td>...</td>\n",
       "      <td>...</td>\n",
       "      <td>...</td>\n",
       "      <td>...</td>\n",
       "      <td>...</td>\n",
       "      <td>...</td>\n",
       "      <td>...</td>\n",
       "      <td>...</td>\n",
       "      <td>...</td>\n",
       "      <td>...</td>\n",
       "      <td>...</td>\n",
       "      <td>...</td>\n",
       "      <td>...</td>\n",
       "      <td>...</td>\n",
       "      <td>...</td>\n",
       "      <td>...</td>\n",
       "      <td>...</td>\n",
       "      <td>...</td>\n",
       "    </tr>\n",
       "    <tr>\n",
       "      <th>1495</th>\n",
       "      <td>22/12/2022</td>\n",
       "      <td>19532</td>\n",
       "      <td>145055</td>\n",
       "      <td>33190</td>\n",
       "      <td>13733</td>\n",
       "      <td>68813.0</td>\n",
       "      <td>22011</td>\n",
       "      <td>28357.0</td>\n",
       "      <td>188516</td>\n",
       "      <td>2920</td>\n",
       "      <td>...</td>\n",
       "      <td>5314</td>\n",
       "      <td>4920</td>\n",
       "      <td>17295</td>\n",
       "      <td>23495</td>\n",
       "      <td>4835</td>\n",
       "      <td>27066</td>\n",
       "      <td>21500</td>\n",
       "      <td>3300</td>\n",
       "      <td>5649</td>\n",
       "      <td>6736</td>\n",
       "    </tr>\n",
       "    <tr>\n",
       "      <th>1496</th>\n",
       "      <td>23/12/2022</td>\n",
       "      <td>19700</td>\n",
       "      <td>145176</td>\n",
       "      <td>33936</td>\n",
       "      <td>14008</td>\n",
       "      <td>68670.0</td>\n",
       "      <td>22175</td>\n",
       "      <td>28044.0</td>\n",
       "      <td>189921</td>\n",
       "      <td>2910</td>\n",
       "      <td>...</td>\n",
       "      <td>5418</td>\n",
       "      <td>4940</td>\n",
       "      <td>17365</td>\n",
       "      <td>23531</td>\n",
       "      <td>4930</td>\n",
       "      <td>27400</td>\n",
       "      <td>21500</td>\n",
       "      <td>3327</td>\n",
       "      <td>5657</td>\n",
       "      <td>6767</td>\n",
       "    </tr>\n",
       "    <tr>\n",
       "      <th>1497</th>\n",
       "      <td>28/12/2022</td>\n",
       "      <td>19600</td>\n",
       "      <td>149617</td>\n",
       "      <td>33657</td>\n",
       "      <td>13597</td>\n",
       "      <td>69225.0</td>\n",
       "      <td>21885</td>\n",
       "      <td>28194.0</td>\n",
       "      <td>189257</td>\n",
       "      <td>2913</td>\n",
       "      <td>...</td>\n",
       "      <td>5417</td>\n",
       "      <td>5000</td>\n",
       "      <td>17115</td>\n",
       "      <td>23167</td>\n",
       "      <td>4846</td>\n",
       "      <td>27447</td>\n",
       "      <td>21279</td>\n",
       "      <td>3305</td>\n",
       "      <td>5681</td>\n",
       "      <td>6732</td>\n",
       "    </tr>\n",
       "    <tr>\n",
       "      <th>1498</th>\n",
       "      <td>29/12/2022</td>\n",
       "      <td>19420</td>\n",
       "      <td>145498</td>\n",
       "      <td>33728</td>\n",
       "      <td>13634</td>\n",
       "      <td>67748.0</td>\n",
       "      <td>21507</td>\n",
       "      <td>27930.0</td>\n",
       "      <td>186967</td>\n",
       "      <td>2878</td>\n",
       "      <td>...</td>\n",
       "      <td>5356</td>\n",
       "      <td>4950</td>\n",
       "      <td>16900</td>\n",
       "      <td>22834</td>\n",
       "      <td>4873</td>\n",
       "      <td>26974</td>\n",
       "      <td>20956</td>\n",
       "      <td>3290</td>\n",
       "      <td>5627</td>\n",
       "      <td>6691</td>\n",
       "    </tr>\n",
       "    <tr>\n",
       "      <th>1499</th>\n",
       "      <td>30/12/2022</td>\n",
       "      <td>19390</td>\n",
       "      <td>142488</td>\n",
       "      <td>32923</td>\n",
       "      <td>13633</td>\n",
       "      <td>67410.0</td>\n",
       "      <td>21439</td>\n",
       "      <td>27008.0</td>\n",
       "      <td>185857</td>\n",
       "      <td>2875</td>\n",
       "      <td>...</td>\n",
       "      <td>5375</td>\n",
       "      <td>4924</td>\n",
       "      <td>16779</td>\n",
       "      <td>22600</td>\n",
       "      <td>4872</td>\n",
       "      <td>26943</td>\n",
       "      <td>21002</td>\n",
       "      <td>3310</td>\n",
       "      <td>5500</td>\n",
       "      <td>6643</td>\n",
       "    </tr>\n",
       "  </tbody>\n",
       "</table>\n",
       "<p>1500 rows × 37 columns</p>\n",
       "</div>"
      ],
      "text/plain": [
       "            Date  JSE:ABG  JSE:AMS  JSE:ANG  JSE:APN  JSE:BTI  JSE:BVT   \n",
       "0     03/01/2017    17000    27672    15093    28208  77975.0    17997  \\\n",
       "1     04/01/2017    17170    28202    15339    28278  77050.0    17792   \n",
       "2     05/01/2017    16680    29250    15900    27500  76825.0    17300   \n",
       "3     06/01/2017    16950    28961    16030    27533  77096.0    17230   \n",
       "4     09/01/2017    16967    28170    15614    27500  77466.0    17352   \n",
       "...          ...      ...      ...      ...      ...      ...      ...   \n",
       "1495  22/12/2022    19532   145055    33190    13733  68813.0    22011   \n",
       "1496  23/12/2022    19700   145176    33936    14008  68670.0    22175   \n",
       "1497  28/12/2022    19600   149617    33657    13597  69225.0    21885   \n",
       "1498  29/12/2022    19420   145498    33728    13634  67748.0    21507   \n",
       "1499  30/12/2022    19390   142488    32923    13633  67410.0    21439   \n",
       "\n",
       "      JSE:CLS  JSE:CPI  JSE:DCP  ...  JSE:RES  JSE:SAP  JSE:SBK  JSE:SHP   \n",
       "0     11746.0    69300     2235  ...    11272     8900    15260    17295  \\\n",
       "1     11450.0    68850     2212  ...    11543     8842    15155    16901   \n",
       "2     11249.0    69000     2209  ...    11417     8800    14901    16840   \n",
       "3     11344.0    68964     2175  ...    11460     8845    15038    16733   \n",
       "4     11423.0    68791     2201  ...    11600     8800    15158    16850   \n",
       "...       ...      ...      ...  ...      ...      ...      ...      ...   \n",
       "1495  28357.0   188516     2920  ...     5314     4920    17295    23495   \n",
       "1496  28044.0   189921     2910  ...     5418     4940    17365    23531   \n",
       "1497  28194.0   189257     2913  ...     5417     5000    17115    23167   \n",
       "1498  27930.0   186967     2878  ...     5356     4950    16900    22834   \n",
       "1499  27008.0   185857     2875  ...     5375     4924    16779    22600   \n",
       "\n",
       "      JSE:SLM  JSE:SOL  JSE:TBS  JSE:TCP  JSE:TRU  JSE:WHL  \n",
       "0        6383    40657    39434     1375     8026     7184  \n",
       "1        6496    40440    39069     1376     8000     7090  \n",
       "2        6373    39950    39255     1421     7745     6909  \n",
       "3        6451    40360    39737     1391     7683     6977  \n",
       "4        6466    40102    39761     1389     7663     6894  \n",
       "...       ...      ...      ...      ...      ...      ...  \n",
       "1495     4835    27066    21500     3300     5649     6736  \n",
       "1496     4930    27400    21500     3327     5657     6767  \n",
       "1497     4846    27447    21279     3305     5681     6732  \n",
       "1498     4873    26974    20956     3290     5627     6691  \n",
       "1499     4872    26943    21002     3310     5500     6643  \n",
       "\n",
       "[1500 rows x 37 columns]"
      ]
     },
     "execution_count": 3,
     "metadata": {},
     "output_type": "execute_result"
    }
   ],
   "source": [
    "df = pd.read_excel(\"JSE Top 40 Closing Prices (1-1-2017 to 30-12-2022).xlsx\")\n",
    "df"
   ]
  },
  {
   "cell_type": "code",
   "execution_count": 4,
   "id": "1df56a28",
   "metadata": {},
   "outputs": [
    {
     "data": {
      "text/html": [
       "<div>\n",
       "<style scoped>\n",
       "    .dataframe tbody tr th:only-of-type {\n",
       "        vertical-align: middle;\n",
       "    }\n",
       "\n",
       "    .dataframe tbody tr th {\n",
       "        vertical-align: top;\n",
       "    }\n",
       "\n",
       "    .dataframe thead th {\n",
       "        text-align: right;\n",
       "    }\n",
       "</style>\n",
       "<table border=\"1\" class=\"dataframe\">\n",
       "  <thead>\n",
       "    <tr style=\"text-align: right;\">\n",
       "      <th></th>\n",
       "      <th>JSE:GFI</th>\n",
       "      <th>JSE:APN</th>\n",
       "      <th>JSE:GRT</th>\n",
       "      <th>JSE:CPI</th>\n",
       "      <th>JSE:BVT</th>\n",
       "      <th>JSE:WHL</th>\n",
       "      <th>JSE:RES</th>\n",
       "      <th>JSE:TCP</th>\n",
       "      <th>JSE:NED</th>\n",
       "      <th>JSE:DSY</th>\n",
       "    </tr>\n",
       "  </thead>\n",
       "  <tbody>\n",
       "    <tr>\n",
       "      <th>1250</th>\n",
       "      <td>17120</td>\n",
       "      <td>21982</td>\n",
       "      <td>1549</td>\n",
       "      <td>203508</td>\n",
       "      <td>19076</td>\n",
       "      <td>5206</td>\n",
       "      <td>6000</td>\n",
       "      <td>4655</td>\n",
       "      <td>17843</td>\n",
       "      <td>14459</td>\n",
       "    </tr>\n",
       "    <tr>\n",
       "      <th>1251</th>\n",
       "      <td>17111</td>\n",
       "      <td>23349</td>\n",
       "      <td>1551</td>\n",
       "      <td>206000</td>\n",
       "      <td>19000</td>\n",
       "      <td>5239</td>\n",
       "      <td>6001</td>\n",
       "      <td>4750</td>\n",
       "      <td>18033</td>\n",
       "      <td>14669</td>\n",
       "    </tr>\n",
       "    <tr>\n",
       "      <th>1252</th>\n",
       "      <td>17068</td>\n",
       "      <td>23303</td>\n",
       "      <td>1550</td>\n",
       "      <td>208858</td>\n",
       "      <td>18990</td>\n",
       "      <td>5239</td>\n",
       "      <td>6136</td>\n",
       "      <td>4770</td>\n",
       "      <td>18595</td>\n",
       "      <td>14924</td>\n",
       "    </tr>\n",
       "    <tr>\n",
       "      <th>1253</th>\n",
       "      <td>15816</td>\n",
       "      <td>22680</td>\n",
       "      <td>1539</td>\n",
       "      <td>212826</td>\n",
       "      <td>18912</td>\n",
       "      <td>5217</td>\n",
       "      <td>6208</td>\n",
       "      <td>4852</td>\n",
       "      <td>18469</td>\n",
       "      <td>14737</td>\n",
       "    </tr>\n",
       "    <tr>\n",
       "      <th>1254</th>\n",
       "      <td>15753</td>\n",
       "      <td>22360</td>\n",
       "      <td>1513</td>\n",
       "      <td>213082</td>\n",
       "      <td>18960</td>\n",
       "      <td>5230</td>\n",
       "      <td>6089</td>\n",
       "      <td>4908</td>\n",
       "      <td>18500</td>\n",
       "      <td>14797</td>\n",
       "    </tr>\n",
       "    <tr>\n",
       "      <th>...</th>\n",
       "      <td>...</td>\n",
       "      <td>...</td>\n",
       "      <td>...</td>\n",
       "      <td>...</td>\n",
       "      <td>...</td>\n",
       "      <td>...</td>\n",
       "      <td>...</td>\n",
       "      <td>...</td>\n",
       "      <td>...</td>\n",
       "      <td>...</td>\n",
       "    </tr>\n",
       "    <tr>\n",
       "      <th>1495</th>\n",
       "      <td>18150</td>\n",
       "      <td>13733</td>\n",
       "      <td>1438</td>\n",
       "      <td>188516</td>\n",
       "      <td>22011</td>\n",
       "      <td>6736</td>\n",
       "      <td>5314</td>\n",
       "      <td>3300</td>\n",
       "      <td>21221</td>\n",
       "      <td>12393</td>\n",
       "    </tr>\n",
       "    <tr>\n",
       "      <th>1496</th>\n",
       "      <td>18525</td>\n",
       "      <td>14008</td>\n",
       "      <td>1477</td>\n",
       "      <td>189921</td>\n",
       "      <td>22175</td>\n",
       "      <td>6767</td>\n",
       "      <td>5418</td>\n",
       "      <td>3327</td>\n",
       "      <td>21482</td>\n",
       "      <td>12415</td>\n",
       "    </tr>\n",
       "    <tr>\n",
       "      <th>1497</th>\n",
       "      <td>18328</td>\n",
       "      <td>13597</td>\n",
       "      <td>1473</td>\n",
       "      <td>189257</td>\n",
       "      <td>21885</td>\n",
       "      <td>6732</td>\n",
       "      <td>5417</td>\n",
       "      <td>3305</td>\n",
       "      <td>21315</td>\n",
       "      <td>12397</td>\n",
       "    </tr>\n",
       "    <tr>\n",
       "      <th>1498</th>\n",
       "      <td>18443</td>\n",
       "      <td>13634</td>\n",
       "      <td>1459</td>\n",
       "      <td>186967</td>\n",
       "      <td>21507</td>\n",
       "      <td>6691</td>\n",
       "      <td>5356</td>\n",
       "      <td>3290</td>\n",
       "      <td>21277</td>\n",
       "      <td>12293</td>\n",
       "    </tr>\n",
       "    <tr>\n",
       "      <th>1499</th>\n",
       "      <td>17615</td>\n",
       "      <td>13633</td>\n",
       "      <td>1454</td>\n",
       "      <td>185857</td>\n",
       "      <td>21439</td>\n",
       "      <td>6643</td>\n",
       "      <td>5375</td>\n",
       "      <td>3310</td>\n",
       "      <td>21258</td>\n",
       "      <td>12335</td>\n",
       "    </tr>\n",
       "  </tbody>\n",
       "</table>\n",
       "<p>250 rows × 10 columns</p>\n",
       "</div>"
      ],
      "text/plain": [
       "      JSE:GFI  JSE:APN  JSE:GRT  JSE:CPI  JSE:BVT  JSE:WHL  JSE:RES  JSE:TCP   \n",
       "1250    17120    21982     1549   203508    19076     5206     6000     4655  \\\n",
       "1251    17111    23349     1551   206000    19000     5239     6001     4750   \n",
       "1252    17068    23303     1550   208858    18990     5239     6136     4770   \n",
       "1253    15816    22680     1539   212826    18912     5217     6208     4852   \n",
       "1254    15753    22360     1513   213082    18960     5230     6089     4908   \n",
       "...       ...      ...      ...      ...      ...      ...      ...      ...   \n",
       "1495    18150    13733     1438   188516    22011     6736     5314     3300   \n",
       "1496    18525    14008     1477   189921    22175     6767     5418     3327   \n",
       "1497    18328    13597     1473   189257    21885     6732     5417     3305   \n",
       "1498    18443    13634     1459   186967    21507     6691     5356     3290   \n",
       "1499    17615    13633     1454   185857    21439     6643     5375     3310   \n",
       "\n",
       "      JSE:NED  JSE:DSY  \n",
       "1250    17843    14459  \n",
       "1251    18033    14669  \n",
       "1252    18595    14924  \n",
       "1253    18469    14737  \n",
       "1254    18500    14797  \n",
       "...       ...      ...  \n",
       "1495    21221    12393  \n",
       "1496    21482    12415  \n",
       "1497    21315    12397  \n",
       "1498    21277    12293  \n",
       "1499    21258    12335  \n",
       "\n",
       "[250 rows x 10 columns]"
      ]
     },
     "execution_count": 4,
     "metadata": {},
     "output_type": "execute_result"
    }
   ],
   "source": [
    "price = df.loc[1250:, ['JSE:GFI','JSE:APN','JSE:GRT','JSE:CPI','JSE:BVT','JSE:WHL','JSE:RES','JSE:TCP','JSE:NED','JSE:DSY']]\n",
    "price"
   ]
  },
  {
   "attachments": {},
   "cell_type": "markdown",
   "id": "293a92da",
   "metadata": {},
   "source": [
    "Calculate the variance covariance matrix and call it `vcm`.  Plot `vcm` as a `heatmap` using the `Seaborn` library.  Use as many cells as needed."
   ]
  },
  {
   "cell_type": "code",
   "execution_count": 5,
   "id": "bbb31bd6",
   "metadata": {},
   "outputs": [
    {
     "data": {
      "text/html": [
       "<div>\n",
       "<style scoped>\n",
       "    .dataframe tbody tr th:only-of-type {\n",
       "        vertical-align: middle;\n",
       "    }\n",
       "\n",
       "    .dataframe tbody tr th {\n",
       "        vertical-align: top;\n",
       "    }\n",
       "\n",
       "    .dataframe thead th {\n",
       "        text-align: right;\n",
       "    }\n",
       "</style>\n",
       "<table border=\"1\" class=\"dataframe\">\n",
       "  <thead>\n",
       "    <tr style=\"text-align: right;\">\n",
       "      <th></th>\n",
       "      <th>JSE:GFI</th>\n",
       "      <th>JSE:APN</th>\n",
       "      <th>JSE:GRT</th>\n",
       "      <th>JSE:CPI</th>\n",
       "      <th>JSE:BVT</th>\n",
       "      <th>JSE:WHL</th>\n",
       "      <th>JSE:RES</th>\n",
       "      <th>JSE:TCP</th>\n",
       "      <th>JSE:NED</th>\n",
       "      <th>JSE:DSY</th>\n",
       "    </tr>\n",
       "  </thead>\n",
       "  <tbody>\n",
       "    <tr>\n",
       "      <th>JSE:GFI</th>\n",
       "      <td>0.001270</td>\n",
       "      <td>0.000036</td>\n",
       "      <td>-0.000033</td>\n",
       "      <td>-0.000010</td>\n",
       "      <td>-0.000009</td>\n",
       "      <td>-0.000045</td>\n",
       "      <td>-0.000002</td>\n",
       "      <td>-0.000011</td>\n",
       "      <td>-0.000013</td>\n",
       "      <td>0.000033</td>\n",
       "    </tr>\n",
       "    <tr>\n",
       "      <th>JSE:APN</th>\n",
       "      <td>0.000036</td>\n",
       "      <td>0.000555</td>\n",
       "      <td>0.000149</td>\n",
       "      <td>0.000160</td>\n",
       "      <td>0.000110</td>\n",
       "      <td>0.000139</td>\n",
       "      <td>0.000072</td>\n",
       "      <td>0.000122</td>\n",
       "      <td>0.000147</td>\n",
       "      <td>0.000168</td>\n",
       "    </tr>\n",
       "    <tr>\n",
       "      <th>JSE:GRT</th>\n",
       "      <td>-0.000033</td>\n",
       "      <td>0.000149</td>\n",
       "      <td>0.000237</td>\n",
       "      <td>0.000101</td>\n",
       "      <td>0.000116</td>\n",
       "      <td>0.000119</td>\n",
       "      <td>0.000118</td>\n",
       "      <td>0.000092</td>\n",
       "      <td>0.000132</td>\n",
       "      <td>0.000127</td>\n",
       "    </tr>\n",
       "    <tr>\n",
       "      <th>JSE:CPI</th>\n",
       "      <td>-0.000010</td>\n",
       "      <td>0.000160</td>\n",
       "      <td>0.000101</td>\n",
       "      <td>0.000400</td>\n",
       "      <td>0.000141</td>\n",
       "      <td>0.000111</td>\n",
       "      <td>0.000067</td>\n",
       "      <td>0.000122</td>\n",
       "      <td>0.000185</td>\n",
       "      <td>0.000194</td>\n",
       "    </tr>\n",
       "    <tr>\n",
       "      <th>JSE:BVT</th>\n",
       "      <td>-0.000009</td>\n",
       "      <td>0.000110</td>\n",
       "      <td>0.000116</td>\n",
       "      <td>0.000141</td>\n",
       "      <td>0.000267</td>\n",
       "      <td>0.000141</td>\n",
       "      <td>0.000074</td>\n",
       "      <td>0.000132</td>\n",
       "      <td>0.000161</td>\n",
       "      <td>0.000156</td>\n",
       "    </tr>\n",
       "    <tr>\n",
       "      <th>JSE:WHL</th>\n",
       "      <td>-0.000045</td>\n",
       "      <td>0.000139</td>\n",
       "      <td>0.000119</td>\n",
       "      <td>0.000111</td>\n",
       "      <td>0.000141</td>\n",
       "      <td>0.000360</td>\n",
       "      <td>0.000066</td>\n",
       "      <td>0.000107</td>\n",
       "      <td>0.000128</td>\n",
       "      <td>0.000112</td>\n",
       "    </tr>\n",
       "    <tr>\n",
       "      <th>JSE:RES</th>\n",
       "      <td>-0.000002</td>\n",
       "      <td>0.000072</td>\n",
       "      <td>0.000118</td>\n",
       "      <td>0.000067</td>\n",
       "      <td>0.000074</td>\n",
       "      <td>0.000066</td>\n",
       "      <td>0.000153</td>\n",
       "      <td>0.000075</td>\n",
       "      <td>0.000085</td>\n",
       "      <td>0.000107</td>\n",
       "    </tr>\n",
       "    <tr>\n",
       "      <th>JSE:TCP</th>\n",
       "      <td>-0.000011</td>\n",
       "      <td>0.000122</td>\n",
       "      <td>0.000092</td>\n",
       "      <td>0.000122</td>\n",
       "      <td>0.000132</td>\n",
       "      <td>0.000107</td>\n",
       "      <td>0.000075</td>\n",
       "      <td>0.000430</td>\n",
       "      <td>0.000170</td>\n",
       "      <td>0.000171</td>\n",
       "    </tr>\n",
       "    <tr>\n",
       "      <th>JSE:NED</th>\n",
       "      <td>-0.000013</td>\n",
       "      <td>0.000147</td>\n",
       "      <td>0.000132</td>\n",
       "      <td>0.000185</td>\n",
       "      <td>0.000161</td>\n",
       "      <td>0.000128</td>\n",
       "      <td>0.000085</td>\n",
       "      <td>0.000170</td>\n",
       "      <td>0.000321</td>\n",
       "      <td>0.000210</td>\n",
       "    </tr>\n",
       "    <tr>\n",
       "      <th>JSE:DSY</th>\n",
       "      <td>0.000033</td>\n",
       "      <td>0.000168</td>\n",
       "      <td>0.000127</td>\n",
       "      <td>0.000194</td>\n",
       "      <td>0.000156</td>\n",
       "      <td>0.000112</td>\n",
       "      <td>0.000107</td>\n",
       "      <td>0.000171</td>\n",
       "      <td>0.000210</td>\n",
       "      <td>0.000346</td>\n",
       "    </tr>\n",
       "  </tbody>\n",
       "</table>\n",
       "</div>"
      ],
      "text/plain": [
       "          JSE:GFI   JSE:APN   JSE:GRT   JSE:CPI   JSE:BVT   JSE:WHL   JSE:RES   \n",
       "JSE:GFI  0.001270  0.000036 -0.000033 -0.000010 -0.000009 -0.000045 -0.000002  \\\n",
       "JSE:APN  0.000036  0.000555  0.000149  0.000160  0.000110  0.000139  0.000072   \n",
       "JSE:GRT -0.000033  0.000149  0.000237  0.000101  0.000116  0.000119  0.000118   \n",
       "JSE:CPI -0.000010  0.000160  0.000101  0.000400  0.000141  0.000111  0.000067   \n",
       "JSE:BVT -0.000009  0.000110  0.000116  0.000141  0.000267  0.000141  0.000074   \n",
       "JSE:WHL -0.000045  0.000139  0.000119  0.000111  0.000141  0.000360  0.000066   \n",
       "JSE:RES -0.000002  0.000072  0.000118  0.000067  0.000074  0.000066  0.000153   \n",
       "JSE:TCP -0.000011  0.000122  0.000092  0.000122  0.000132  0.000107  0.000075   \n",
       "JSE:NED -0.000013  0.000147  0.000132  0.000185  0.000161  0.000128  0.000085   \n",
       "JSE:DSY  0.000033  0.000168  0.000127  0.000194  0.000156  0.000112  0.000107   \n",
       "\n",
       "          JSE:TCP   JSE:NED   JSE:DSY  \n",
       "JSE:GFI -0.000011 -0.000013  0.000033  \n",
       "JSE:APN  0.000122  0.000147  0.000168  \n",
       "JSE:GRT  0.000092  0.000132  0.000127  \n",
       "JSE:CPI  0.000122  0.000185  0.000194  \n",
       "JSE:BVT  0.000132  0.000161  0.000156  \n",
       "JSE:WHL  0.000107  0.000128  0.000112  \n",
       "JSE:RES  0.000075  0.000085  0.000107  \n",
       "JSE:TCP  0.000430  0.000170  0.000171  \n",
       "JSE:NED  0.000170  0.000321  0.000210  \n",
       "JSE:DSY  0.000171  0.000210  0.000346  "
      ]
     },
     "execution_count": 5,
     "metadata": {},
     "output_type": "execute_result"
    }
   ],
   "source": [
    "returns = price/price.shift(1) - 1 #calclulating the returns of the stocks\n",
    "returns = returns.dropna() #drop invalid data\n",
    "vcm = returns.cov() #covariance matrics for the returns\n",
    "vcm\n"
   ]
  },
  {
   "cell_type": "code",
   "execution_count": 6,
   "id": "a629ba79",
   "metadata": {},
   "outputs": [
    {
     "data": {
      "text/plain": [
       "<Axes: >"
      ]
     },
     "execution_count": 6,
     "metadata": {},
     "output_type": "execute_result"
    },
    {
     "data": {
      "image/png": "[encoded data removed]",
      "text/plain": [
       "<Figure size 1800x900 with 2 Axes>"
      ]
     },
     "metadata": {},
     "output_type": "display_data"
    }
   ],
   "source": [
    "plt.figure(figsize=(18,9)) #adjusting the size of the heatmeap\n",
    "sns.heatmap(vcm,annot=True) #drawing the heatmap with vaules"
   ]
  },
  {
   "cell_type": "code",
   "execution_count": 7,
   "id": "e0d5b45b",
   "metadata": {},
   "outputs": [
    {
     "data": {
      "text/plain": [
       "JSE:GFI    0.000744\n",
       "JSE:APN   -0.001641\n",
       "JSE:GRT   -0.000136\n",
       "JSE:CPI   -0.000162\n",
       "JSE:BVT    0.000601\n",
       "JSE:WHL    0.001157\n",
       "JSE:RES   -0.000365\n",
       "JSE:TCP   -0.001154\n",
       "JSE:NED    0.000864\n",
       "JSE:DSY   -0.000464\n",
       "dtype: float64"
      ]
     },
     "execution_count": 7,
     "metadata": {},
     "output_type": "execute_result"
    }
   ],
   "source": [
    "mean_returns = returns.mean() # average returns of each stock for the time frame\n",
    "mean_returns"
   ]
  },
  {
   "cell_type": "code",
   "execution_count": 8,
   "id": "377d1d1f",
   "metadata": {},
   "outputs": [
    {
     "data": {
      "text/plain": [
       "JSE:GFI    0.035636\n",
       "JSE:APN    0.023566\n",
       "JSE:GRT    0.015386\n",
       "JSE:CPI    0.020011\n",
       "JSE:BVT    0.016342\n",
       "JSE:WHL    0.018976\n",
       "JSE:RES    0.012369\n",
       "JSE:TCP    0.020742\n",
       "JSE:NED    0.017920\n",
       "JSE:DSY    0.018596\n",
       "dtype: float64"
      ]
     },
     "execution_count": 8,
     "metadata": {},
     "output_type": "execute_result"
    }
   ],
   "source": [
    "st_dev = returns.std() # standard dev fo the returns\n",
    "st_dev\n"
   ]
  },
  {
   "cell_type": "code",
   "execution_count": 9,
   "id": "2adb2f2b",
   "metadata": {},
   "outputs": [
    {
     "data": {
      "text/plain": [
       "JSE:GFI    0.020870\n",
       "JSE:APN   -0.069646\n",
       "JSE:GRT   -0.008866\n",
       "JSE:CPI   -0.008073\n",
       "JSE:BVT    0.036782\n",
       "JSE:WHL    0.060980\n",
       "JSE:RES   -0.029499\n",
       "JSE:TCP   -0.055631\n",
       "JSE:NED    0.048234\n",
       "JSE:DSY   -0.024952\n",
       "dtype: float64"
      ]
     },
     "execution_count": 9,
     "metadata": {},
     "output_type": "execute_result"
    }
   ],
   "source": [
    "sharpe_ratio = mean_returns/st_dev #sharpe ratios for each stock in the portfolio\n",
    "\n",
    "sharpe_ratio\n"
   ]
  },
  {
   "attachments": {},
   "cell_type": "markdown",
   "id": "ce055e3b",
   "metadata": {},
   "source": [
    "Calculate the optimal weights, portfolio return, portfolio standard deviation and portfolio Sharpe ratio of the Maximum Sharpe Ratio portfolio.  Store the variables as `msr_weights`, `msr_return`, `msr_std` and `msr_sr` respectively. Use as many cells as needed."
   ]
  },
  {
   "cell_type": "code",
   "execution_count": 10,
   "id": "64f8bd90",
   "metadata": {},
   "outputs": [],
   "source": [
    "def neg_sharpe_ratio(weights, mean_returns, vcm):\n",
    "    portfolio_return = np.sum(mean_returns*weights)\n",
    "    portfolio_var = np.dot(weights.T, np.dot(vcm,weights))\n",
    "    portfolio_std_dev = np.sqrt(portfolio_var)\n",
    "    sharpe_ratio = portfolio_return/portfolio_std_dev\n",
    "    return -sharpe_ratio "
   ]
  },
  {
   "cell_type": "code",
   "execution_count": 11,
   "id": "fbf490c4",
   "metadata": {},
   "outputs": [],
   "source": [
    "#constraints\n",
    "def weight_constraint(weights): #weight is mean\n",
    "    return np.sum(weights) - 1\n",
    "def individual_weight_constraint(weights):\n",
    "    return weights\n"
   ]
  },
  {
   "cell_type": "code",
   "execution_count": 12,
   "id": "4f97b99d",
   "metadata": {},
   "outputs": [
    {
     "data": {
      "text/plain": [
       " message: Optimization terminated successfully\n",
       " success: True\n",
       "  status: 0\n",
       "     fun: -0.07125898623319174\n",
       "       x: [ 1.387e-01  9.498e-17  4.472e-17  2.557e-17  7.850e-17\n",
       "            5.376e-01  0.000e+00  3.123e-17  3.236e-01  0.000e+00]\n",
       "     nit: 14\n",
       "     jac: [ 8.511e-04  1.620e-01  4.625e-02  5.369e-02  2.748e-03\n",
       "           -1.492e-04  4.836e-02  1.215e-01 -1.217e-04  8.039e-02]\n",
       "    nfev: 155\n",
       "    njev: 14"
      ]
     },
     "execution_count": 12,
     "metadata": {},
     "output_type": "execute_result"
    }
   ],
   "source": [
    "constraints = ({'type': 'eq', 'fun': weight_constraint},\n",
    "               {'type': 'ineq', 'fun': individual_weight_constraint})\n",
    "initial_weights = np.array([1/len(price.columns) for i in range(len(price.columns))])\n",
    "bounds = tuple((0,1) for i in range(len(price.columns)))\n",
    "\n",
    "results = sco.minimize(neg_sharpe_ratio, initial_weights, \n",
    "                       args=(mean_returns,vcm), \n",
    "                       method=\"SLSQP\", \n",
    "                       bounds=bounds, \n",
    "                       constraints=constraints)\n",
    "results\n",
    "\n"
   ]
  },
  {
   "cell_type": "code",
   "execution_count": 13,
   "id": "dadb0572",
   "metadata": {},
   "outputs": [
    {
     "data": {
      "text/plain": [
       "array([1.38748634e-01, 9.49761103e-17, 4.47233396e-17, 2.55736187e-17,\n",
       "       7.84962373e-17, 5.37606083e-01, 0.00000000e+00, 3.12250226e-17,\n",
       "       3.23645283e-01, 0.00000000e+00])"
      ]
     },
     "execution_count": 13,
     "metadata": {},
     "output_type": "execute_result"
    }
   ],
   "source": [
    "msr_weights = results.x\n",
    "msr_weights\n"
   ]
  },
  {
   "cell_type": "code",
   "execution_count": 14,
   "id": "45b6d384",
   "metadata": {},
   "outputs": [
    {
     "data": {
      "text/plain": [
       "0.0010050388759499894"
      ]
     },
     "execution_count": 14,
     "metadata": {},
     "output_type": "execute_result"
    }
   ],
   "source": [
    "msr_return = np.dot(msr_weights, mean_returns)\n",
    "msr_return"
   ]
  },
  {
   "cell_type": "code",
   "execution_count": 15,
   "id": "4b1a4e0a",
   "metadata": {},
   "outputs": [
    {
     "data": {
      "text/plain": [
       "0.014104029948742831"
      ]
     },
     "execution_count": 15,
     "metadata": {},
     "output_type": "execute_result"
    }
   ],
   "source": [
    "msr_std = np.sqrt(np.dot(msr_weights.T, np.dot(vcm,msr_weights)))\n",
    "msr_std\n"
   ]
  },
  {
   "cell_type": "code",
   "execution_count": 16,
   "id": "46df2c8d",
   "metadata": {},
   "outputs": [
    {
     "data": {
      "text/plain": [
       "0.07125898623319174"
      ]
     },
     "execution_count": 16,
     "metadata": {},
     "output_type": "execute_result"
    }
   ],
   "source": [
    "msr_sr = msr_return/msr_std\n",
    "msr_sr"
   ]
  },
  {
   "attachments": {},
   "cell_type": "markdown",
   "id": "705c12d0",
   "metadata": {},
   "source": [
    "Calculate the optimal weights, portfolio return, portfolio standard deviation and portfolio Sharpe ratio of the Minimum Variance portfolio.  Store the variables as `mv_weights`, `mv_return`, `mv_std` and `mv_sr` respectively. Use as many cells as needed."
   ]
  },
  {
   "cell_type": "code",
   "execution_count": 17,
   "id": "e169f5e4",
   "metadata": {},
   "outputs": [],
   "source": [
    "def portfolio_var(weights, vcm):\n",
    "    portfolio_var = np.dot(weights.T, np.dot(vcm,weights))\n",
    "    return portfolio_var"
   ]
  },
  {
   "cell_type": "code",
   "execution_count": 18,
   "id": "ed4a90ac",
   "metadata": {},
   "outputs": [],
   "source": [
    "def weight_constraint(weights): \n",
    "    return np.sum(weights) - 1\n",
    "def individual_weight_constraint(weights):\n",
    "    return weights"
   ]
  },
  {
   "cell_type": "code",
   "execution_count": 19,
   "id": "4f9ea0fe",
   "metadata": {},
   "outputs": [
    {
     "data": {
      "text/plain": [
       " message: Optimization terminated successfully\n",
       " success: True\n",
       "  status: 0\n",
       "     fun: 0.0001340552657874429\n",
       "       x: [ 1.000e-01  1.000e-01  1.000e-01  1.000e-01  1.000e-01\n",
       "            1.000e-01  1.000e-01  1.000e-01  1.000e-01  1.000e-01]\n",
       "     nit: 1\n",
       "     jac: [ 2.433e-04  3.320e-04  2.316e-04  2.941e-04  2.577e-04\n",
       "            2.475e-04  1.629e-04  2.819e-04  3.056e-04  3.245e-04]\n",
       "    nfev: 11\n",
       "    njev: 1"
      ]
     },
     "execution_count": 19,
     "metadata": {},
     "output_type": "execute_result"
    }
   ],
   "source": [
    "constraints = ({'type': 'eq', 'fun': weight_constraint},\n",
    "               {'type': 'ineq', 'fun': individual_weight_constraint})\n",
    "initial_weights = np.array([1/len(price.columns) for i in range(len(price.columns))])\n",
    "bounds = tuple((0,1) for i in range(len(price.columns)))\n",
    "\n",
    "results = sco.minimize(portfolio_var, initial_weights, \n",
    "                       args=(vcm), \n",
    "                       method=\"SLSQP\", \n",
    "                       bounds=bounds, \n",
    "                       constraints=constraints)\n",
    "results\n"
   ]
  },
  {
   "cell_type": "code",
   "execution_count": 20,
   "id": "d7b92772",
   "metadata": {},
   "outputs": [
    {
     "data": {
      "text/plain": [
       "array([0.1, 0.1, 0.1, 0.1, 0.1, 0.1, 0.1, 0.1, 0.1, 0.1])"
      ]
     },
     "execution_count": 20,
     "metadata": {},
     "output_type": "execute_result"
    }
   ],
   "source": [
    "mv_weights = results.x\n",
    "mv_weights\n"
   ]
  },
  {
   "cell_type": "code",
   "execution_count": 21,
   "id": "c6434335",
   "metadata": {},
   "outputs": [
    {
     "data": {
      "text/plain": [
       "-5.5566796130784815e-05"
      ]
     },
     "execution_count": 21,
     "metadata": {},
     "output_type": "execute_result"
    }
   ],
   "source": [
    "mv_return = np.dot(mv_weights, mean_returns)\n",
    "mv_return"
   ]
  },
  {
   "cell_type": "code",
   "execution_count": 22,
   "id": "8a830e0e",
   "metadata": {},
   "outputs": [
    {
     "data": {
      "text/plain": [
       "0.011578223775149749"
      ]
     },
     "execution_count": 22,
     "metadata": {},
     "output_type": "execute_result"
    }
   ],
   "source": [
    "mv_std = np.sqrt(np.dot(mv_weights.T, np.dot(vcm,mv_weights)))\n",
    "mv_std"
   ]
  },
  {
   "cell_type": "code",
   "execution_count": 23,
   "id": "3fa7c377",
   "metadata": {},
   "outputs": [
    {
     "data": {
      "text/plain": [
       "-0.004799250490394511"
      ]
     },
     "execution_count": 23,
     "metadata": {},
     "output_type": "execute_result"
    }
   ],
   "source": [
    "mv_sr = mv_return/mv_std\n",
    "mv_sr"
   ]
  },
  {
   "attachments": {},
   "cell_type": "markdown",
   "id": "40bf0e31",
   "metadata": {},
   "source": [
    "Calculate the optimal weights, portfolio return, portfolio standard deviation and portfolio Sharpe ratio of the Risk portfolio.  Store the variables as `rp_weights`, `rp_return`, `rp_std` and `rp_sr` respectively. Use as many cells as needed."
   ]
  },
  {
   "cell_type": "code",
   "execution_count": 24,
   "id": "f2988730",
   "metadata": {},
   "outputs": [],
   "source": [
    "def neg_portfolio_return(weights, mean_returns):\n",
    "    portfolio_return = np.sum(mean_returns*weights)\n",
    "    return - portfolio_return\n"
   ]
  },
  {
   "cell_type": "code",
   "execution_count": 25,
   "id": "94120522",
   "metadata": {},
   "outputs": [],
   "source": [
    "#defining weight constrains\n",
    "\n",
    "def weight_constraint(weights):\n",
    "    return np.sum(weights)-1\n",
    "def individual_weight_constraint(weights):\n",
    "    return weights\n"
   ]
  },
  {
   "cell_type": "code",
   "execution_count": 26,
   "id": "14c8047e",
   "metadata": {},
   "outputs": [],
   "source": [
    "# constraints for the stocks, I named each stock A to J repectively.\n",
    "# is there an seasier way to loop through all the values\n",
    "def MCA_MCB(weights):\n",
    "    portfolio_var = np.dot(weights.T, np.dot(vcm,weights.T))\n",
    "    MCA = (weights[0]/portfolio_var)*(weights@vcm.iloc[0])\n",
    "    MCB = (weights[1]/portfolio_var)*(weights@vcm.iloc[1])\n",
    "    return MCA - MCB\n",
    "def MCB_MDC(weights):\n",
    "    portfolio_var = np.dot(weights.T, np.dot(vcm,weights.T))\n",
    "    MCB = (weights[1]/portfolio_var)*(weights@vcm.iloc[1])\n",
    "    MDC = (weights[2]/portfolio_var)*(weights@vcm.iloc[2])\n",
    "    return MCB - MDC\n",
    "def MDC_MED(weights):\n",
    "    portfolio_var = np.dot(weights.T, np.dot(vcm,weights.T))\n",
    "    MDC = (weights[2]/portfolio_var)*(weights@vcm.iloc[2])\n",
    "    MED = (weights[3]/portfolio_var)*(weights@vcm.iloc[3])\n",
    "    return  MDC - MED\n",
    "def MED_MFE(weights):\n",
    "    portfolio_var = np.dot(weights.T, np.dot(vcm,weights.T))\n",
    "    MED = (weights[3]/portfolio_var)*(weights@vcm.iloc[3])\n",
    "    MFE = (weights[4]/portfolio_var)*(weights@vcm.iloc[4])\n",
    "    return MED - MFE\n",
    "def MFE_MGF(weights):\n",
    "    portfolio_var = np.dot(weights.T, np.dot(vcm,weights.T))\n",
    "    MFE = (weights[4]/portfolio_var)*(weights@vcm.iloc[4])\n",
    "    MGF = (weights[5]/portfolio_var)*(weights@vcm.iloc[5])\n",
    "    return MFE - MGF\n",
    "def MGF_MHG(weights):\n",
    "    portfolio_var = np.dot(weights.T, np.dot(vcm,weights.T))\n",
    "    MGF = (weights[5]/portfolio_var)*(weights@vcm.iloc[5])\n",
    "    MHG = (weights[6]/portfolio_var)*(weights@vcm.iloc[6])\n",
    "    return MGF - MHG\n",
    "def MHG_MIH(weights):\n",
    "    portfolio_var = np.dot(weights.T, np.dot(vcm,weights.T))\n",
    "    MHG = (weights[6]/portfolio_var)*(weights@vcm.iloc[6])\n",
    "    MIH = (weights[7]/portfolio_var)*(weights@vcm.iloc[7])\n",
    "    return MHG - MIH\n",
    "def MIH_MJI(weights):\n",
    "    portfolio_var = np.dot(weights.T, np.dot(vcm,weights.T))\n",
    "    MIH = (weights[7]/portfolio_var)*(weights@vcm.iloc[7])\n",
    "    MJI = (weights[8]/portfolio_var)*(weights@vcm.iloc[8])\n",
    "    return MIH - MJI\n",
    "def MJI_MJJ(weights):\n",
    "    portfolio_var = np.dot(weights.T, np.dot(vcm,weights.T))\n",
    "    MJI = (weights[8]/portfolio_var)*(weights@vcm.iloc[8])\n",
    "    MJJ = (weights[9]/portfolio_var)*(weights@vcm.iloc[9])\n",
    "    return MJI - MJJ\n",
    "\n",
    "\n",
    "\n",
    "\n",
    "    \n"
   ]
  },
  {
   "cell_type": "code",
   "execution_count": 27,
   "id": "21af3567",
   "metadata": {},
   "outputs": [
    {
     "data": {
      "text/plain": [
       " message: Optimization terminated successfully\n",
       " success: True\n",
       "  status: 0\n",
       "     fun: 3.223193852108653e-05\n",
       "       x: [ 1.024e-01  8.180e-02  1.089e-01  9.110e-02  1.008e-01\n",
       "            1.038e-01  1.487e-01  9.377e-02  8.688e-02  8.178e-02]\n",
       "     nit: 3\n",
       "     jac: [-7.437e-04  1.641e-03  1.364e-04  1.616e-04 -6.011e-04\n",
       "           -1.157e-03  3.649e-04  1.154e-03 -8.644e-04  4.640e-04]\n",
       "    nfev: 34\n",
       "    njev: 3"
      ]
     },
     "execution_count": 27,
     "metadata": {},
     "output_type": "execute_result"
    }
   ],
   "source": [
    "constraints = ({'type': 'eq', 'fun': weight_constraint},\n",
    "               {'type': 'eq', 'fun': MCA_MCB},\n",
    "               {'type': 'eq', 'fun': MCB_MDC},\n",
    "               {'type': 'eq', 'fun': MDC_MED},\n",
    "               {'type': 'eq', 'fun': MED_MFE},\n",
    "               {'type': 'eq', 'fun': MFE_MGF},\n",
    "               {'type': 'eq', 'fun': MGF_MHG},\n",
    "               {'type': 'eq', 'fun': MHG_MIH},\n",
    "               {'type': 'eq', 'fun': MIH_MJI},\n",
    "               {'type': 'eq', 'fun': MJI_MJJ},\n",
    "               {'type': 'ineq', 'fun': individual_weight_constraint})\n",
    "initial_weights = np.array([1/len(price.columns) for i in range(len(price.columns))])\n",
    "bounds = tuple((0, 1) for i in range(len(price.columns)))\n",
    "\n",
    "result = sco.minimize(neg_portfolio_return, initial_weights, args=(mean_returns), method='SLSQP', bounds=bounds, constraints=constraints)\n",
    "result"
   ]
  },
  {
   "cell_type": "code",
   "execution_count": 28,
   "id": "1cbc7449",
   "metadata": {},
   "outputs": [
    {
     "data": {
      "text/plain": [
       "array([0.10241036, 0.0818011 , 0.10887863, 0.09110339, 0.10082134,\n",
       "       0.10382804, 0.148726  , 0.09376825, 0.08687964, 0.08178326])"
      ]
     },
     "execution_count": 28,
     "metadata": {},
     "output_type": "execute_result"
    }
   ],
   "source": [
    "rp_weights = result.x\n",
    "rp_weights"
   ]
  },
  {
   "cell_type": "code",
   "execution_count": 29,
   "id": "5e72468a",
   "metadata": {},
   "outputs": [
    {
     "data": {
      "text/plain": [
       "-3.223193852108653e-05"
      ]
     },
     "execution_count": 29,
     "metadata": {},
     "output_type": "execute_result"
    }
   ],
   "source": [
    "rp_return = -result.fun\n",
    "rp_return"
   ]
  },
  {
   "cell_type": "code",
   "execution_count": 30,
   "id": "52b852ec",
   "metadata": {},
   "outputs": [
    {
     "data": {
      "text/plain": [
       "0.01123349762551781"
      ]
     },
     "execution_count": 30,
     "metadata": {},
     "output_type": "execute_result"
    }
   ],
   "source": [
    "rp_std = np.sqrt(np.dot(rp_weights.T, np.dot(vcm,rp_weights)))\n",
    "rp_std"
   ]
  },
  {
   "cell_type": "code",
   "execution_count": 31,
   "id": "2bcbf81f",
   "metadata": {},
   "outputs": [
    {
     "data": {
      "text/plain": [
       "-0.0028692700702467803"
      ]
     },
     "execution_count": 31,
     "metadata": {},
     "output_type": "execute_result"
    }
   ],
   "source": [
    "rp_sr = rp_return/rp_std\n",
    "rp_sr"
   ]
  },
  {
   "attachments": {},
   "cell_type": "markdown",
   "id": "467ec660",
   "metadata": {},
   "source": [
    "Determine if the Risk Parity portfolio is infact optimized by estimating the Mean Variance Optimisation portfolio where the portfolio variance needs to equal that of the Risk Parity portfolio.  "
   ]
  },
  {
   "cell_type": "code",
   "execution_count": 32,
   "id": "8592c8e3",
   "metadata": {},
   "outputs": [],
   "source": [
    "def portfolio_var(weights, vcm):\n",
    "    portfolio_var = np.dot(weights.T, np.dot(vcm,weights))\n",
    "    return portfolio_var"
   ]
  },
  {
   "cell_type": "code",
   "execution_count": 33,
   "id": "0e08be7f",
   "metadata": {},
   "outputs": [],
   "source": [
    "def weight_constraint(weights): \n",
    "    return np.sum(weights) - 1\n",
    "def individual_weight_constraint(weights):\n",
    "    return weights\n",
    "def return_constraints(weights):\n",
    "    return np.dot(weights,mean_returns)\n"
   ]
  },
  {
   "cell_type": "code",
   "execution_count": 34,
   "id": "4888526e",
   "metadata": {},
   "outputs": [
    {
     "data": {
      "text/plain": [
       " message: Optimization terminated successfully\n",
       " success: True\n",
       "  status: 0\n",
       "     fun: 0.00013325603269690597\n",
       "       x: [ 1.060e-01  8.804e-02  9.943e-02  9.918e-02  1.049e-01\n",
       "            1.091e-01  9.778e-02  9.174e-02  1.069e-01  9.688e-02]\n",
       "     nit: 1\n",
       "     jac: [ 2.433e-04  3.320e-04  2.316e-04  2.941e-04  2.577e-04\n",
       "            2.475e-04  1.629e-04  2.819e-04  3.056e-04  3.245e-04]\n",
       "    nfev: 12\n",
       "    njev: 1"
      ]
     },
     "execution_count": 34,
     "metadata": {},
     "output_type": "execute_result"
    }
   ],
   "source": [
    "constraints = ({'type': 'eq', 'fun': weight_constraint},\n",
    "               {'type': 'eq', 'fun': return_constraints},\n",
    "               {'type': 'ineq', 'fun': individual_weight_constraint})\n",
    "initial_weights = np.array([1/len(price.columns) for i in range(len(price.columns))])\n",
    "bounds = tuple((0,1) for i in range(len(price.columns)))\n",
    "\n",
    "results = sco.minimize(portfolio_var, initial_weights, \n",
    "                       args=(vcm), \n",
    "                       method=\"SLSQP\", \n",
    "                       bounds=bounds, \n",
    "                       constraints=constraints)\n",
    "results\n"
   ]
  },
  {
   "cell_type": "code",
   "execution_count": 35,
   "id": "3f711901",
   "metadata": {},
   "outputs": [
    {
     "name": "stdout",
     "output_type": "stream",
     "text": [
      "The variance of the risk parity Portfolio is 0.00012619146890251425 and the variance for the mean variance portfolio is  0.00013325603269690597\n",
      "The Risk Parity portfolio is not optimised\n"
     ]
    }
   ],
   "source": [
    "variance_rp = np.dot(rp_weights.T, np.dot(vcm,rp_weights))\n",
    "Variance_mean_variance = results.fun\n",
    "print(\"The variance of the risk parity Portfolio is\", variance_rp, \"and the variance for the mean variance portfolio is \",Variance_mean_variance)\n",
    "print(\"The Risk Parity portfolio is not optimised\")"
   ]
  }
 ],
 "metadata": {
  "kernelspec": {
   "display_name": "Python 3",
   "language": "python",
   "name": "python3"
  },
  "language_info": {
   "codemirror_mode": {
    "name": "ipython",
    "version": 3
   },
   "file_extension": ".py",
   "mimetype": "text/x-python",
   "name": "python",
   "nbconvert_exporter": "python",
   "pygments_lexer": "ipython3",
   "version": "3.10.4"
  }
 },
 "nbformat": 4,
 "nbformat_minor": 5
}
